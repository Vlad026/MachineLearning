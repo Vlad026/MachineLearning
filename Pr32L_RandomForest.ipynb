{
  "nbformat": 4,
  "nbformat_minor": 0,
  "metadata": {
    "colab": {
      "name": "Pr32L_RandomForest.ipynb",
      "provenance": [],
      "collapsed_sections": [],
      "toc_visible": true,
      "include_colab_link": true
    },
    "kernelspec": {
      "name": "python3",
      "display_name": "Python 3"
    }
  },
  "cells": [
    {
      "cell_type": "markdown",
      "metadata": {
        "id": "view-in-github",
        "colab_type": "text"
      },
      "source": [
        "<a href=\"https://colab.research.google.com/github/Vlad026/MachineLearning/blob/main/Pr32L_RandomForest.ipynb\" target=\"_parent\"><img src=\"https://colab.research.google.com/assets/colab-badge.svg\" alt=\"Open In Colab\"/></a>"
      ]
    },
    {
      "cell_type": "code",
      "metadata": {
        "id": "5np0f8d6n5ti"
      },
      "source": [
        "# Импорт необходимых модулей \n",
        "import matplotlib\n",
        "import seaborn as sns\n",
        "import matplotlib.pyplot as plt\n",
        "import numpy as np\n",
        "import pandas as pd\n",
        "\n",
        "# Настройки для визуализации\n",
        "# Если используется темная тема - лучше текст сделать белым\n",
        "TEXT_COLOR = 'black'\n",
        "\n",
        "matplotlib.rcParams['figure.figsize'] = (15, 10)\n",
        "matplotlib.rcParams['text.color'] = 'black'\n",
        "matplotlib.rcParams['font.size'] = 14\n",
        "matplotlib.rcParams['axes.labelcolor'] = TEXT_COLOR\n",
        "matplotlib.rcParams['xtick.color'] = TEXT_COLOR\n",
        "matplotlib.rcParams['ytick.color'] = TEXT_COLOR\n",
        "\n",
        "# Зафиксируем состояние случайных чисел\n",
        "RANDOM_STATE = 42\n",
        "np.random.seed(RANDOM_STATE)"
      ],
      "execution_count": 1,
      "outputs": []
    },
    {
      "cell_type": "markdown",
      "metadata": {
        "id": "u4dJttl0xebt"
      },
      "source": [
        "# Случайные леса на Титанике\n",
        "\n",
        "Ахой, дамы и господа! Мы уже знакомились с игрушечными задачками для решения, когда данных было не так много и в них не было особо проблем: ни пропусков, ни строковых значений - все уже готово для модели. В этот раз мы возьмем данные посложнее и посмотрим, как работать с наиболее распространенными случаями предобработки!\n",
        "\n",
        "В этот раз мы идем в плавание и планируем научиться предсказывать выживет ли человек или нет! В этом нам поможет набор данных с Kaggle - [Titanic: Machine Learning from Disaster](https://www.kaggle.com/c/titanic). Вы можете скачать данные прямо с сайта, ну а мы для примеров возьмем уже скачанный файл данных:"
      ]
    },
    {
      "cell_type": "code",
      "metadata": {
        "id": "zeAnrA_b5JuW",
        "colab": {
          "base_uri": "https://localhost:8080/",
          "height": 204
        },
        "outputId": "0d7bd206-f452-41e2-9a5a-6cd38bc5781c"
      },
      "source": [
        "URL = 'https://raw.githubusercontent.com/KaiL4eK/ml_edu/master/datasets/Titanic_train.csv'\n",
        "src_df = pd.read_csv(URL)\n",
        "src_df.head()"
      ],
      "execution_count": 2,
      "outputs": [
        {
          "output_type": "execute_result",
          "data": {
            "text/html": [
              "<div>\n",
              "<style scoped>\n",
              "    .dataframe tbody tr th:only-of-type {\n",
              "        vertical-align: middle;\n",
              "    }\n",
              "\n",
              "    .dataframe tbody tr th {\n",
              "        vertical-align: top;\n",
              "    }\n",
              "\n",
              "    .dataframe thead th {\n",
              "        text-align: right;\n",
              "    }\n",
              "</style>\n",
              "<table border=\"1\" class=\"dataframe\">\n",
              "  <thead>\n",
              "    <tr style=\"text-align: right;\">\n",
              "      <th></th>\n",
              "      <th>PassengerId</th>\n",
              "      <th>Survived</th>\n",
              "      <th>Pclass</th>\n",
              "      <th>Name</th>\n",
              "      <th>Sex</th>\n",
              "      <th>Age</th>\n",
              "      <th>SibSp</th>\n",
              "      <th>Parch</th>\n",
              "      <th>Ticket</th>\n",
              "      <th>Fare</th>\n",
              "      <th>Cabin</th>\n",
              "      <th>Embarked</th>\n",
              "    </tr>\n",
              "  </thead>\n",
              "  <tbody>\n",
              "    <tr>\n",
              "      <th>0</th>\n",
              "      <td>1</td>\n",
              "      <td>0</td>\n",
              "      <td>3</td>\n",
              "      <td>Braund, Mr. Owen Harris</td>\n",
              "      <td>male</td>\n",
              "      <td>22.0</td>\n",
              "      <td>1</td>\n",
              "      <td>0</td>\n",
              "      <td>A/5 21171</td>\n",
              "      <td>7.2500</td>\n",
              "      <td>NaN</td>\n",
              "      <td>S</td>\n",
              "    </tr>\n",
              "    <tr>\n",
              "      <th>1</th>\n",
              "      <td>2</td>\n",
              "      <td>1</td>\n",
              "      <td>1</td>\n",
              "      <td>Cumings, Mrs. John Bradley (Florence Briggs Th...</td>\n",
              "      <td>female</td>\n",
              "      <td>38.0</td>\n",
              "      <td>1</td>\n",
              "      <td>0</td>\n",
              "      <td>PC 17599</td>\n",
              "      <td>71.2833</td>\n",
              "      <td>C85</td>\n",
              "      <td>C</td>\n",
              "    </tr>\n",
              "    <tr>\n",
              "      <th>2</th>\n",
              "      <td>3</td>\n",
              "      <td>1</td>\n",
              "      <td>3</td>\n",
              "      <td>Heikkinen, Miss. Laina</td>\n",
              "      <td>female</td>\n",
              "      <td>26.0</td>\n",
              "      <td>0</td>\n",
              "      <td>0</td>\n",
              "      <td>STON/O2. 3101282</td>\n",
              "      <td>7.9250</td>\n",
              "      <td>NaN</td>\n",
              "      <td>S</td>\n",
              "    </tr>\n",
              "    <tr>\n",
              "      <th>3</th>\n",
              "      <td>4</td>\n",
              "      <td>1</td>\n",
              "      <td>1</td>\n",
              "      <td>Futrelle, Mrs. Jacques Heath (Lily May Peel)</td>\n",
              "      <td>female</td>\n",
              "      <td>35.0</td>\n",
              "      <td>1</td>\n",
              "      <td>0</td>\n",
              "      <td>113803</td>\n",
              "      <td>53.1000</td>\n",
              "      <td>C123</td>\n",
              "      <td>S</td>\n",
              "    </tr>\n",
              "    <tr>\n",
              "      <th>4</th>\n",
              "      <td>5</td>\n",
              "      <td>0</td>\n",
              "      <td>3</td>\n",
              "      <td>Allen, Mr. William Henry</td>\n",
              "      <td>male</td>\n",
              "      <td>35.0</td>\n",
              "      <td>0</td>\n",
              "      <td>0</td>\n",
              "      <td>373450</td>\n",
              "      <td>8.0500</td>\n",
              "      <td>NaN</td>\n",
              "      <td>S</td>\n",
              "    </tr>\n",
              "  </tbody>\n",
              "</table>\n",
              "</div>"
            ],
            "text/plain": [
              "   PassengerId  Survived  Pclass  ...     Fare Cabin  Embarked\n",
              "0            1         0       3  ...   7.2500   NaN         S\n",
              "1            2         1       1  ...  71.2833   C85         C\n",
              "2            3         1       3  ...   7.9250   NaN         S\n",
              "3            4         1       1  ...  53.1000  C123         S\n",
              "4            5         0       3  ...   8.0500   NaN         S\n",
              "\n",
              "[5 rows x 12 columns]"
            ]
          },
          "metadata": {
            "tags": []
          },
          "execution_count": 2
        }
      ]
    },
    {
      "cell_type": "markdown",
      "metadata": {
        "id": "KWDH8wwu5U2x"
      },
      "source": [
        "На официальном сайте предоставлена информация по данным, сделаем краткое обобщение:\n",
        "- `Survived` - (Целевая переменная) булевая переменная - выжил или нет;\n",
        "- `PassengerId` - уникальный идентификатор пассажира; \n",
        "- `Pclass` - класс обслуживания;\n",
        "- `Name` - имя пассажира;\n",
        "- `Sex` - пол пассажира;\n",
        "- `Age` - возраст пассажира (вещественное - возраст менее 1; х.5 - призблизительная оценка);\n",
        "- `SibSp` - количество родственников на борту (братья, сестры, мужья, жены);\n",
        "- `Parch` - количество родственников на борту (матери, отцы, дочери, сыновья);\n",
        "- `Ticket` - номер билета;\n",
        "- `Fare` - плата за проезд;\n",
        "- `Cabin` - номер кабины;\n",
        "- `Embarked` - порт посадки."
      ]
    },
    {
      "cell_type": "code",
      "metadata": {
        "id": "Y0H4LHTU5UkB",
        "colab": {
          "base_uri": "https://localhost:8080/"
        },
        "outputId": "f2874811-2a77-46a7-a6f4-5df4dc623bae"
      },
      "source": [
        "print(f'Shape of data: {src_df.shape}')\n",
        "print(src_df.columns)"
      ],
      "execution_count": 3,
      "outputs": [
        {
          "output_type": "stream",
          "text": [
            "Shape of data: (891, 12)\n",
            "Index(['PassengerId', 'Survived', 'Pclass', 'Name', 'Sex', 'Age', 'SibSp',\n",
            "       'Parch', 'Ticket', 'Fare', 'Cabin', 'Embarked'],\n",
            "      dtype='object')\n"
          ],
          "name": "stdout"
        }
      ]
    },
    {
      "cell_type": "code",
      "metadata": {
        "id": "5mU02duL5gx-",
        "colab": {
          "base_uri": "https://localhost:8080/"
        },
        "outputId": "c10af79f-9f15-460c-f99a-d07b6955b493"
      },
      "source": [
        "src_df.info()"
      ],
      "execution_count": 4,
      "outputs": [
        {
          "output_type": "stream",
          "text": [
            "<class 'pandas.core.frame.DataFrame'>\n",
            "RangeIndex: 891 entries, 0 to 890\n",
            "Data columns (total 12 columns):\n",
            " #   Column       Non-Null Count  Dtype  \n",
            "---  ------       --------------  -----  \n",
            " 0   PassengerId  891 non-null    int64  \n",
            " 1   Survived     891 non-null    int64  \n",
            " 2   Pclass       891 non-null    int64  \n",
            " 3   Name         891 non-null    object \n",
            " 4   Sex          891 non-null    object \n",
            " 5   Age          714 non-null    float64\n",
            " 6   SibSp        891 non-null    int64  \n",
            " 7   Parch        891 non-null    int64  \n",
            " 8   Ticket       891 non-null    object \n",
            " 9   Fare         891 non-null    float64\n",
            " 10  Cabin        204 non-null    object \n",
            " 11  Embarked     889 non-null    object \n",
            "dtypes: float64(2), int64(5), object(5)\n",
            "memory usage: 83.7+ KB\n"
          ],
          "name": "stdout"
        }
      ]
    },
    {
      "cell_type": "markdown",
      "metadata": {
        "id": "Myhjy7s25e3X"
      },
      "source": [
        "Видим 891 запись, 12 колонок: 11 колонок данных и целевая переменная. Как видно из `.info()` - данные имеют пропуск и имеются колонки с типом `object`, что означает наличие строковых (а то и еще каких) данных. Давайте разберемся, как нам сделать базовую предобработку, чтобы построить первую модель!"
      ]
    },
    {
      "cell_type": "markdown",
      "metadata": {
        "id": "uQKsstFB55lv"
      },
      "source": [
        "# Базовый анализ данных\n",
        "\n",
        "В этой части мы пройдемся по дополнительным методам подготовки данных для построения базовой модели (к тем, что мы изучили ранее). Целью базового анализа является первое знакомство с данными и подготовка к формату, который позволяет модели работать с данными - численная 2D матрица."
      ]
    },
    {
      "cell_type": "markdown",
      "metadata": {
        "id": "8XjFWC1r6O7S"
      },
      "source": [
        "## Анализ признаков\n",
        "\n",
        "При работе с данными первым делом необходимо понять, что значит каждый признак, какие в нем есть значения и пригодится ли он в работе. Для начала самыми подозрительными признаками являются признаки со строчными или целочисленными значениями, которые имеют слишком много уникальных значений. Как правило к категориальным такое отнести уже сложно, поэтому такие признаки чаще всего исключаются. Для примера возьмем признак `PassengerId`. С виду это какой-то индетификацтор, но взглянем на количество уникальных знчений:"
      ]
    },
    {
      "cell_type": "code",
      "metadata": {
        "id": "hJgHLaYs7ts3",
        "colab": {
          "base_uri": "https://localhost:8080/"
        },
        "outputId": "0d1729da-366e-4606-9825-01bde30e9e20"
      },
      "source": [
        "print(src_df['PassengerId'].nunique())\n",
        "print(src_df['PassengerId'].count())\n",
        "src_df['PassengerId'].head()"
      ],
      "execution_count": 5,
      "outputs": [
        {
          "output_type": "stream",
          "text": [
            "891\n",
            "891\n"
          ],
          "name": "stdout"
        },
        {
          "output_type": "execute_result",
          "data": {
            "text/plain": [
              "0    1\n",
              "1    2\n",
              "2    3\n",
              "3    4\n",
              "4    5\n",
              "Name: PassengerId, dtype: int64"
            ]
          },
          "metadata": {
            "tags": []
          },
          "execution_count": 5
        }
      ]
    },
    {
      "cell_type": "markdown",
      "metadata": {
        "id": "Ycdaiwbv71B5"
      },
      "source": [
        "Как видно, абсолютно все значения уникальны, что означает невозможность применения данного признака в работе и он должен быть исключен. Аналогично имеет смысл проверить остальные признаки. Вещественные значения признаков часто также имеют очень много уникальных значений, но их либо сразу относят к типу признаков **непрерывные (численные)**, либо проводят более глубокий анализ.\n",
        "\n",
        "Полезной практикой является проводить в начале унивариативный анализ, показывающий характеристики каждого признака и что с ним можно/нужно сделать в качестве первого этапа базового анализа.\n",
        "\n",
        "Для колонок с типом `object` полезно воспользоваться методом `Series.describe()`:"
      ]
    },
    {
      "cell_type": "code",
      "metadata": {
        "id": "Q6Igi5pL8j0s",
        "colab": {
          "base_uri": "https://localhost:8080/"
        },
        "outputId": "a3e16158-4bd1-423e-8868-c68c9b47b19a"
      },
      "source": [
        "src_df['Name'].describe()"
      ],
      "execution_count": 6,
      "outputs": [
        {
          "output_type": "execute_result",
          "data": {
            "text/plain": [
              "count                          891\n",
              "unique                         891\n",
              "top       Sage, Mr. George John Jr\n",
              "freq                             1\n",
              "Name: Name, dtype: object"
            ]
          },
          "metadata": {
            "tags": []
          },
          "execution_count": 6
        }
      ]
    },
    {
      "cell_type": "markdown",
      "metadata": {
        "id": "Vk6ow1TG9Mdk"
      },
      "source": [
        "**Вывод:** самым первым этапом базового анализа является анализ признаков, который проводится по каждому признаку с целью определить применимость, необходимость коррекции и другие особенности и проблемы."
      ]
    },
    {
      "cell_type": "markdown",
      "metadata": {
        "id": "xjprXtZr-iEF"
      },
      "source": [
        "## Заполнение пропусков\n",
        "\n",
        "Для просмотра количества пропусков удобно воспользоаться проверкой на `null` и затем вывести сумму по колонкам:"
      ]
    },
    {
      "cell_type": "code",
      "metadata": {
        "id": "a7W5B1CP-taD",
        "colab": {
          "base_uri": "https://localhost:8080/"
        },
        "outputId": "97ebbd15-2322-4bec-8075-08c1ac1d7d38"
      },
      "source": [
        "src_df.isnull().sum()"
      ],
      "execution_count": 7,
      "outputs": [
        {
          "output_type": "execute_result",
          "data": {
            "text/plain": [
              "PassengerId      0\n",
              "Survived         0\n",
              "Pclass           0\n",
              "Name             0\n",
              "Sex              0\n",
              "Age            177\n",
              "SibSp            0\n",
              "Parch            0\n",
              "Ticket           0\n",
              "Fare             0\n",
              "Cabin          687\n",
              "Embarked         2\n",
              "dtype: int64"
            ]
          },
          "metadata": {
            "tags": []
          },
          "execution_count": 7
        }
      ]
    },
    {
      "cell_type": "markdown",
      "metadata": {
        "id": "s1ZXJNOo-vs6"
      },
      "source": [
        "По результатам отображения количества пропусков видно, что данные имеют пропуски и требуется произвести их обработку, так как данные в таком виде не могут быть применены для построения модели.\n",
        "\n",
        "Существует огромное количество возможных вариантов работы с пропусками (https://scikit-learn.org/stable/modules/impute.html):\n",
        "- Исключение признаков (колонок), имеющих пропуски;\n",
        "- Исключение записей (строк), имеющих пропуски;\n",
        "- Заполнение пропусков средним/медианным значением признака (**Унивариативное** заполнение - Используется единственный признак);\n",
        "- Заполнение пропусков наиболее частым значением признака (мода);\n",
        "- Заполнение путем построения регрессионной модели по остальным признакам (**Мультивариативное** заполнение - используется несколько признаков);\n",
        "- и т.д.\n",
        "\n",
        "Так, например, признак `Age` имеет 177 пропущенных значений, что является достаточно большим количеством, чтобы исключить записи с пропусками. Признак также невозможно исключить, так как он имеет информативный характер (возраст часто связывают со способностью к выживанию). Таким образом, можно воспользоваться `sklearn.impute.SimpleImputer` со стратегией заполнения `mean`, чтобы заполнить пропущенные данные на основе статистики остальных данных данного признака."
      ]
    },
    {
      "cell_type": "code",
      "metadata": {
        "id": "xGfBcMsx-zJT",
        "colab": {
          "base_uri": "https://localhost:8080/"
        },
        "outputId": "af9c1f78-621b-44da-c0e5-49bbe07a58d5"
      },
      "source": [
        "from sklearn.impute import SimpleImputer\n",
        "\n",
        "imp = SimpleImputer(strategy='mean')\n",
        "# Двойные скобки использованы, чтобы передать в fit() 2D массив\n",
        "X_in = src_df[['Age']]\n",
        "print(X_in.shape)\n",
        "\n",
        "src_df['Age'] = imp.fit_transform(X_in)\n",
        "src_df.isnull().sum()"
      ],
      "execution_count": 8,
      "outputs": [
        {
          "output_type": "stream",
          "text": [
            "(891, 1)\n"
          ],
          "name": "stdout"
        },
        {
          "output_type": "execute_result",
          "data": {
            "text/plain": [
              "PassengerId      0\n",
              "Survived         0\n",
              "Pclass           0\n",
              "Name             0\n",
              "Sex              0\n",
              "Age              0\n",
              "SibSp            0\n",
              "Parch            0\n",
              "Ticket           0\n",
              "Fare             0\n",
              "Cabin          687\n",
              "Embarked         2\n",
              "dtype: int64"
            ]
          },
          "metadata": {
            "tags": []
          },
          "execution_count": 8
        }
      ]
    },
    {
      "cell_type": "markdown",
      "metadata": {
        "id": "-WAgzKBg_H4m"
      },
      "source": [
        "Вот так мы убедились в том, что метод работает! Исходя из распределения данных лучше выбирать стратегию по следующему признаку:\n",
        "- Гауссово распределение - стратегия `mean`, так как в нормальном расрпделении наиболее частое ~ среднее значение;\n",
        "- Ненормальное распределение - стратегия `meadian`, чтобы получить близкое к наиболее частому значению.\n",
        "\n",
        "Для категориальных признаков наиболее простым методом является стратегия `most_frequent`, когда берется наиболее частое значение:"
      ]
    },
    {
      "cell_type": "code",
      "metadata": {
        "id": "JLLcdhD5_39x",
        "colab": {
          "base_uri": "https://localhost:8080/"
        },
        "outputId": "a64e3746-683a-4f22-b130-ed22c28f0b5f"
      },
      "source": [
        "imp = SimpleImputer(strategy='most_frequent')\n",
        "src_df['Embarked'] = imp.fit_transform(src_df[['Embarked']])\n",
        "\n",
        "src_df.isnull().sum()"
      ],
      "execution_count": 9,
      "outputs": [
        {
          "output_type": "execute_result",
          "data": {
            "text/plain": [
              "PassengerId      0\n",
              "Survived         0\n",
              "Pclass           0\n",
              "Name             0\n",
              "Sex              0\n",
              "Age              0\n",
              "SibSp            0\n",
              "Parch            0\n",
              "Ticket           0\n",
              "Fare             0\n",
              "Cabin          687\n",
              "Embarked         0\n",
              "dtype: int64"
            ]
          },
          "metadata": {
            "tags": []
          },
          "execution_count": 9
        }
      ]
    },
    {
      "cell_type": "markdown",
      "metadata": {
        "id": "HIFB5fZ6AUd5"
      },
      "source": [
        "Другим методом работы с пропусками является исключение признаков из-за слишком большого количества пропусков:\n"
      ]
    },
    {
      "cell_type": "code",
      "metadata": {
        "id": "SMiDKCY3AgbP",
        "colab": {
          "base_uri": "https://localhost:8080/"
        },
        "outputId": "d8a28bf9-cdb6-4c7b-8999-7bb9ee53bcdd"
      },
      "source": [
        "src_df['Cabin'].isnull().sum()/src_df.shape[0]"
      ],
      "execution_count": 10,
      "outputs": [
        {
          "output_type": "execute_result",
          "data": {
            "text/plain": [
              "0.7710437710437711"
            ]
          },
          "metadata": {
            "tags": []
          },
          "execution_count": 10
        }
      ]
    },
    {
      "cell_type": "markdown",
      "metadata": {
        "id": "12iTKgdSAm46"
      },
      "source": [
        "77% - это слишком большое количество пропусков, чтобы пытаться заполнить!"
      ]
    },
    {
      "cell_type": "markdown",
      "metadata": {
        "id": "I-zkmSBY_9LP"
      },
      "source": [
        "## Кодирование признаков\n",
        "\n",
        "Как уже ранее обсуждалось, признаки бывают разные:\n",
        "- Непрерывные (численные) - вещественные или целочисленные (чаще всего представляются типом `float` и `int`);\n",
        "- Категориальные - могут быть представлены строками или числами с небольшим количеством уникальных значений, они могут быть разделены на следующие подтипы:\n",
        "    - Номинальные - значения признаков ограничены группой возможных значений (красный/синий/зеленый);\n",
        "    - Бинарные - те же номинальные, но всего две группы (Да/Нет, Правда/Ложь);\n",
        "    - Последовательные - те же номинальные, но еще группы имеют порядок (плохой/хороший/отличный).\n",
        "\n",
        "Непрерывные признаки с точки зрения базового анализа не требуют особой предобработки, так как они уже представлены числами. Можно лишь попробовать провести их стандартизацию.\n",
        "\n",
        "С категориальными часто бывает чуть сложнее. Наибольшую проблему составляют признаки, которые представлены строками, например признак `Embarked`:"
      ]
    },
    {
      "cell_type": "code",
      "metadata": {
        "id": "wnG3Qx8wACV7",
        "colab": {
          "base_uri": "https://localhost:8080/"
        },
        "outputId": "33b4e5ad-38bc-4c15-e9aa-67ef8c8016fa"
      },
      "source": [
        "src_df.info()\n",
        "src_df['Embarked'].value_counts()"
      ],
      "execution_count": 11,
      "outputs": [
        {
          "output_type": "stream",
          "text": [
            "<class 'pandas.core.frame.DataFrame'>\n",
            "RangeIndex: 891 entries, 0 to 890\n",
            "Data columns (total 12 columns):\n",
            " #   Column       Non-Null Count  Dtype  \n",
            "---  ------       --------------  -----  \n",
            " 0   PassengerId  891 non-null    int64  \n",
            " 1   Survived     891 non-null    int64  \n",
            " 2   Pclass       891 non-null    int64  \n",
            " 3   Name         891 non-null    object \n",
            " 4   Sex          891 non-null    object \n",
            " 5   Age          891 non-null    float64\n",
            " 6   SibSp        891 non-null    int64  \n",
            " 7   Parch        891 non-null    int64  \n",
            " 8   Ticket       891 non-null    object \n",
            " 9   Fare         891 non-null    float64\n",
            " 10  Cabin        204 non-null    object \n",
            " 11  Embarked     891 non-null    object \n",
            "dtypes: float64(2), int64(5), object(5)\n",
            "memory usage: 83.7+ KB\n"
          ],
          "name": "stdout"
        },
        {
          "output_type": "execute_result",
          "data": {
            "text/plain": [
              "S    646\n",
              "C    168\n",
              "Q     77\n",
              "Name: Embarked, dtype: int64"
            ]
          },
          "metadata": {
            "tags": []
          },
          "execution_count": 11
        }
      ]
    },
    {
      "cell_type": "markdown",
      "metadata": {
        "id": "6yd5SqQHAHAm"
      },
      "source": [
        "Этот признак представлен в данных типом `object` - строка, при этом мы видим, что уникальных значений мало, а это наводит на мысль, что признак - категориальный. Теперь важно понять, имеют ли значения порядок или они независимы? В данном случае логично предположить, что независимы, поэтому присваиваем тип - категориальные номинальный.\n",
        "\n",
        "Но мало просто присвоить тип, нам же нужно подготовить данные для модели, а значит как-то представить в численном виде эти строки.\n",
        "\n",
        "Для этого нам может помочь кодирование One-Hot! Давайте посмотрим, как это делается в `sklearn`:"
      ]
    },
    {
      "cell_type": "code",
      "metadata": {
        "id": "ZdJGQqDdAIMp",
        "colab": {
          "base_uri": "https://localhost:8080/"
        },
        "outputId": "a5f204f1-fbe7-41b2-b46b-29509649eed7"
      },
      "source": [
        "from sklearn.preprocessing import OneHotEncoder\n",
        "\n",
        "# Мы отключим создание разреженного представления, но оно оптимальнее для хранения\n",
        "# Поэтому для отладки лучше использовать и проверять dense представление,\n",
        "#   а для работы в конечном представлении - sparse\n",
        "oh_enc = OneHotEncoder(sparse=False)\n",
        "\n",
        "# Любой энкодер ненавидит пропуски в данных, поэтому перед использованием\n",
        "#   заполните пропуски в данных\n",
        "X_sample = src_df[['Embarked']]\n",
        "print(X_sample.shape)\n",
        "\n",
        "oh_enc.fit(X_sample)"
      ],
      "execution_count": 12,
      "outputs": [
        {
          "output_type": "stream",
          "text": [
            "(891, 1)\n"
          ],
          "name": "stdout"
        },
        {
          "output_type": "execute_result",
          "data": {
            "text/plain": [
              "OneHotEncoder(categories='auto', drop=None, dtype=<class 'numpy.float64'>,\n",
              "              handle_unknown='error', sparse=False)"
            ]
          },
          "metadata": {
            "tags": []
          },
          "execution_count": 12
        }
      ]
    },
    {
      "cell_type": "code",
      "metadata": {
        "id": "4kmcAb54A2O_",
        "colab": {
          "base_uri": "https://localhost:8080/"
        },
        "outputId": "cdcd63a4-e300-4080-b911-674324b2a121"
      },
      "source": [
        "# Можно проверить, какие есть категории\n",
        "oh_enc.categories_"
      ],
      "execution_count": 13,
      "outputs": [
        {
          "output_type": "execute_result",
          "data": {
            "text/plain": [
              "[array(['C', 'Q', 'S'], dtype=object)]"
            ]
          },
          "metadata": {
            "tags": []
          },
          "execution_count": 13
        }
      ]
    },
    {
      "cell_type": "code",
      "metadata": {
        "id": "HHSDyg-UA8-8",
        "colab": {
          "base_uri": "https://localhost:8080/"
        },
        "outputId": "a2976e2e-3805-425c-ab0f-bf4baed66762"
      },
      "source": [
        "# Также посмотреть, что происходит после кодирования с данными\n",
        "X_sample_ohe = oh_enc.transform(X_sample)\n",
        "\n",
        "print(X_sample[:6])\n",
        "print(X_sample_ohe[:6])"
      ],
      "execution_count": 14,
      "outputs": [
        {
          "output_type": "stream",
          "text": [
            "  Embarked\n",
            "0        S\n",
            "1        C\n",
            "2        S\n",
            "3        S\n",
            "4        S\n",
            "5        Q\n",
            "[[0. 0. 1.]\n",
            " [1. 0. 0.]\n",
            " [0. 0. 1.]\n",
            " [0. 0. 1.]\n",
            " [0. 0. 1.]\n",
            " [0. 1. 0.]]\n"
          ],
          "name": "stdout"
        }
      ]
    },
    {
      "cell_type": "markdown",
      "metadata": {
        "id": "_14IW5_PA9zj"
      },
      "source": [
        "> Теперь попробуйте поменять флаг `sparse` на `True` и посмотреть на результат кодирования. *Dense* (плотное) представление матрицы - это то, к чему мы привыкли, но есть и более экономное - *sparse* (разреженное). В этом случае матрица представлена в виде списка пар (или `dict`), в котором первым элементом (или ключем) обозначается положение в матрице, а вторым - значение. В случае с OHE кодированием sparse представление - дело обычное!\n",
        "\n",
        "\n",
        "Еще одним важным аргументом является поведение энкодера при поступлении новых данных, которые он раньше не видел. Тут многое зависит от задачи, но можно сделать так, чтобы он выдавал ошибку или игнорировал новую категорию, которая не была в обучающих данных:\n",
        "\n"
      ]
    },
    {
      "cell_type": "code",
      "metadata": {
        "id": "bNt2sNLdDdbT",
        "colab": {
          "base_uri": "https://localhost:8080/"
        },
        "outputId": "29962800-c906-4cc6-930a-c9dc649f5ecd"
      },
      "source": [
        "# Кидаем исключение, если появилась ранее невиданная категория\n",
        "oh_enc = OneHotEncoder(sparse=False, handle_unknown='error')\n",
        "oh_enc.fit(src_df[['Embarked']])\n",
        "\n",
        "# Воспользуемся try-except, чтобы поймать ошибку\n",
        "try:\n",
        "    print(oh_enc.transform(np.array([['K']])))\n",
        "except Exception as e:\n",
        "    print(f'Error happened: {e}')"
      ],
      "execution_count": 15,
      "outputs": [
        {
          "output_type": "stream",
          "text": [
            "Error happened: Found unknown categories ['K'] in column 0 during transform\n"
          ],
          "name": "stdout"
        }
      ]
    },
    {
      "cell_type": "code",
      "metadata": {
        "id": "YUduZqy9ESwZ",
        "colab": {
          "base_uri": "https://localhost:8080/"
        },
        "outputId": "6cf3c1da-e748-4209-dad4-287fe4b6596a"
      },
      "source": [
        "# Или просто игнорируем\n",
        "oh_enc = OneHotEncoder(sparse=False, handle_unknown='ignore')\n",
        "oh_enc.fit(src_df[['Embarked']])\n",
        "\n",
        "# Воспользуемся try-except, чтобы поймать ошибку\n",
        "try:\n",
        "    print(oh_enc.transform(np.array([['K']])))\n",
        "except Exception as e:\n",
        "    print(f'Error happened: {e}')"
      ],
      "execution_count": 16,
      "outputs": [
        {
          "output_type": "stream",
          "text": [
            "[[0. 0. 0.]]\n"
          ],
          "name": "stdout"
        }
      ]
    },
    {
      "cell_type": "markdown",
      "metadata": {
        "id": "-g7wBFZBEXEP"
      },
      "source": [
        "1. Первый способ (ошибка) - удобен для проверки, что данные соответсвуют формату и все происходит так как надо - жесткая логика. \n",
        "2. Второй вариант (игнорировать) - более мягкая, но тут надо учитывать, что при обучении модель должна уметь обрабатывать ранее невиданные данные. Такой способ удобен, когда мы сами задаем список категорий:"
      ]
    },
    {
      "cell_type": "code",
      "metadata": {
        "id": "ShF2xo05E40B",
        "colab": {
          "base_uri": "https://localhost:8080/"
        },
        "outputId": "9976bcc7-936a-4075-bf51-e0f47f8a1ccb"
      },
      "source": [
        "# Или просто игнорируем\n",
        "oh_enc = OneHotEncoder(sparse=False, handle_unknown='ignore', categories=[['C', 'Q']])\n",
        "X_sample = src_df[['Embarked']]\n",
        "oh_enc.fit(X_sample)\n",
        "\n",
        "X_sample_ohe = oh_enc.transform(X_sample)\n",
        "\n",
        "print(X_sample[:6])\n",
        "print(X_sample_ohe[:6])"
      ],
      "execution_count": 17,
      "outputs": [
        {
          "output_type": "stream",
          "text": [
            "  Embarked\n",
            "0        S\n",
            "1        C\n",
            "2        S\n",
            "3        S\n",
            "4        S\n",
            "5        Q\n",
            "[[0. 0.]\n",
            " [1. 0.]\n",
            " [0. 0.]\n",
            " [0. 0.]\n",
            " [0. 0.]\n",
            " [0. 1.]]\n"
          ],
          "name": "stdout"
        }
      ]
    },
    {
      "cell_type": "markdown",
      "metadata": {
        "id": "lf_KRGRCCrAX"
      },
      "source": [
        "# Полноценная предобработка\n",
        "\n",
        "Когда мы разобрались с тем, как нужно обработать признаки, мы можем поступить двумя способами:\n",
        "- Написать свой код предобработки, протестировать, сохранить категории при кодировании, параметры стандартизации и другие этапы;\n",
        "- Воспользоваться готовыми инструментами, которые делают все действия и на этапе `.fit()` вычисляют и запоминают параметры, чтобы далее во время `.transform()` их применять!\n",
        "\n",
        "Первый способ подходит, когда нет готового инструмента, но `sklearn` имеет огромный арсенал по предобработке, а также можно посмотреть другие фреймворки!\n",
        "\n",
        "Мы пойдем вторым способом и познакомимся с двумя полезными инструментами: [`Pipeline`](https://scikit-learn.org/stable/modules/generated/sklearn.pipeline.Pipeline.html) и [`ColumnTransformer`](https://scikit-learn.org/stable/modules/generated/sklearn.compose.ColumnTransformer.html).\n",
        "\n",
        "Пайплайн позволяет собирать несколько этапов обработки/моделей воедино, чтобы затем пользоваться им как единым целым! Для примера наша обработка категориальных признаков может состоять из двух этапов:"
      ]
    },
    {
      "cell_type": "code",
      "metadata": {
        "id": "iN86MMBfGNLN"
      },
      "source": [
        "from sklearn.pipeline import Pipeline\n",
        "\n",
        "categorical_features = ['Sex', 'Embarked']\n",
        "\n",
        "# Создаем обработчик категориальный признаков\n",
        "# Так как имеются пропущенные данные в Embarked - \n",
        "#   создадим Pipeline для выполнения нескольких шагов\n",
        "categorical_transformer = Pipeline(\n",
        "    # Шаги в Pipeline указываются как кортежи, каждый из которых\n",
        "    #   представляет собой (имя шага, трансформер)\n",
        "    steps=[\n",
        "        ('imp', SimpleImputer(strategy='most_frequent')),\n",
        "        # Опять sparse для отладки = False\n",
        "        ('enc', OneHotEncoder(sparse=False, handle_unknown='error')),                   \n",
        "])"
      ],
      "execution_count": 18,
      "outputs": []
    },
    {
      "cell_type": "markdown",
      "metadata": {
        "id": "1gZFo3AdGdw4"
      },
      "source": [
        "Далее, мы снова загрузим данные, чтобы восстановить те проблемы, которые решались до этого и воспользуемся реализацией пайплайна:"
      ]
    },
    {
      "cell_type": "code",
      "metadata": {
        "id": "LssphTHEGmpF",
        "colab": {
          "base_uri": "https://localhost:8080/"
        },
        "outputId": "c4dadbe3-30d3-4d7c-8370-4160bc6db282"
      },
      "source": [
        "URL = 'https://raw.githubusercontent.com/KaiL4eK/ml_edu/master/datasets/Titanic_train.csv'\n",
        "df = pd.read_csv(URL)\n",
        "\n",
        "categorical_transformer.fit(df[categorical_features])\n",
        "\n",
        "X_transformed = categorical_transformer.transform(df[categorical_features])\n",
        "print(df[categorical_features][:3])\n",
        "print(X_transformed[:3])"
      ],
      "execution_count": 19,
      "outputs": [
        {
          "output_type": "stream",
          "text": [
            "      Sex Embarked\n",
            "0    male        S\n",
            "1  female        C\n",
            "2  female        S\n",
            "[[0. 1. 0. 0. 1.]\n",
            " [1. 0. 1. 0. 0.]\n",
            " [1. 0. 0. 0. 1.]]\n"
          ],
          "name": "stdout"
        }
      ]
    },
    {
      "cell_type": "code",
      "metadata": {
        "id": "ExESS5S1GvqN",
        "colab": {
          "base_uri": "https://localhost:8080/"
        },
        "outputId": "58f6f61a-1a5b-46f8-b302-cda831084089"
      },
      "source": [
        "# До конкретных шагов можно добраться через атрибут named_steps\n",
        "categorical_transformer.named_steps['enc'].categories_"
      ],
      "execution_count": 20,
      "outputs": [
        {
          "output_type": "execute_result",
          "data": {
            "text/plain": [
              "[array(['female', 'male'], dtype=object), array(['C', 'Q', 'S'], dtype=object)]"
            ]
          },
          "metadata": {
            "tags": []
          },
          "execution_count": 20
        }
      ]
    },
    {
      "cell_type": "code",
      "metadata": {
        "id": "YdNzdRBWHE4N",
        "colab": {
          "base_uri": "https://localhost:8080/"
        },
        "outputId": "edaf7cac-7d19-439d-c2ff-358238d78920"
      },
      "source": [
        "# Или посмотреть названия признаков после кодирования\n",
        "categorical_transformer.named_steps['enc'].get_feature_names(categorical_features)"
      ],
      "execution_count": 21,
      "outputs": [
        {
          "output_type": "execute_result",
          "data": {
            "text/plain": [
              "array(['Sex_female', 'Sex_male', 'Embarked_C', 'Embarked_Q', 'Embarked_S'],\n",
              "      dtype=object)"
            ]
          },
          "metadata": {
            "tags": []
          },
          "execution_count": 21
        }
      ]
    },
    {
      "cell_type": "markdown",
      "metadata": {
        "id": "U39FbWL4HKyo"
      },
      "source": [
        "> Если обратить внимание, то можно заметить, что `OneHotEncoder` генерирует признаки по количеству категорий, хотя признак `Sex` можно закодировать 0 или 1. Для этого есть аргумент в конструкторе `drop`, который управляет исключением лишних данных. Если его применить, то признак `Sex` в закодированном виде будет представлен всего одной колонкой, что выглядет логичнее.\n",
        "\n",
        "Пайплайн очень удобен тем, что это полноценный объект настраиваемой предобработки, который можно один раз собрать и далее активно пользоваться! Более того, его можно сохранить в файл (сериализация) и затем переносить с сохраненными параметрами!\n",
        "\n",
        "Также, пайплайн позволяет добраться до своих этапов, чтобы получить необходимые атрибуты!\n",
        "\n",
        "Теперь перейдем к другому классу - преобразователь колонок! Его применение в том, чтобы также собирать шаги обработки, но уже указывая, на какие колонки, какая обработка. То есть в пайплайн мы явно передавали данные. `ColumnTransformer` позволяет настроить всю линию предобработки, указывая, какую колонку, чем обрабатывать:"
      ]
    },
    {
      "cell_type": "code",
      "metadata": {
        "id": "8JquUK-TH99f",
        "colab": {
          "base_uri": "https://localhost:8080/"
        },
        "outputId": "5d3b89c2-fef0-47db-d8ff-e857bf86cc91"
      },
      "source": [
        "from sklearn.compose import ColumnTransformer\n",
        "\n",
        "# Составляет список признаков для обработки\n",
        "categorical_features = ['Sex', 'Embarked']\n",
        "numeric_features = ['Age', 'Fare']\n",
        "\n",
        "# Создаем обработчик категориальных признаков\n",
        "categorical_transformer = Pipeline(\n",
        "    steps=[\n",
        "        ('imp', SimpleImputer(strategy='most_frequent')),\n",
        "        ('enc', OneHotEncoder(handle_unknown='error')),                   \n",
        "])\n",
        "\n",
        "# Численные значения имеют пропуски, заполним стратегией медианы\n",
        "numeric_transformer = SimpleImputer(strategy='median')\n",
        "\n",
        "# Создаем конечный конвертер, который будет использован для \n",
        "#   предобработки\n",
        "preprocessor = ColumnTransformer(\n",
        "    # Список конвертеров, каждый кортеж содержит\n",
        "    #   имя, конвертер и признаки, на которые он будет применен\n",
        "    transformers=[\n",
        "        ('cat', categorical_transformer, categorical_features),\n",
        "        ('num', numeric_transformer, numeric_features)\n",
        "    ],\n",
        "    # Признаки, не указанные ни в одном из конвертеров будут удалены\n",
        "    remainder='drop'\n",
        ")\n",
        "\n",
        "preprocessor.fit(df)\n",
        "\n",
        "X_data = preprocessor.transform(df)\n",
        "print(type(X_data))"
      ],
      "execution_count": 22,
      "outputs": [
        {
          "output_type": "stream",
          "text": [
            "<class 'numpy.ndarray'>\n"
          ],
          "name": "stdout"
        }
      ]
    },
    {
      "cell_type": "markdown",
      "metadata": {
        "id": "P3_9B1OvHB9Q"
      },
      "source": [
        "На выходе конвертера получается числовая матрица numpy, которую можно уже передавать на вход модели. При этом трансформер колонок позволяет также получать доступ до своих составляющих через атрибут `named_transformers_`:"
      ]
    },
    {
      "cell_type": "code",
      "metadata": {
        "id": "XcrfnxtSJR1O",
        "colab": {
          "base_uri": "https://localhost:8080/"
        },
        "outputId": "8bf8caf3-36e3-4bcc-c2d8-84f841bbfafe"
      },
      "source": [
        "# Получим объект пайплайна категориальных признаков\n",
        "pipe = preprocessor.named_transformers_['cat']\n",
        "# Отобразим категории OHE для шага кодирования\n",
        "print(pipe.named_steps['enc'].categories_)"
      ],
      "execution_count": 23,
      "outputs": [
        {
          "output_type": "stream",
          "text": [
            "[array(['female', 'male'], dtype=object), array(['C', 'Q', 'S'], dtype=object)]\n"
          ],
          "name": "stdout"
        }
      ]
    },
    {
      "cell_type": "markdown",
      "metadata": {
        "id": "Hbe7k4B2J-Vo"
      },
      "source": [
        "При желании можно восстановить представление DataFrame, если из всех шагов собрать имена столбцов результирующей матрицы, но это нужно в редких случаях. А мы всё-таки сделаем для примера:\n",
        "\n"
      ]
    },
    {
      "cell_type": "code",
      "metadata": {
        "id": "EltBOZl0OLp7",
        "colab": {
          "base_uri": "https://localhost:8080/",
          "height": 204
        },
        "outputId": "3cfc1b7e-79c2-4814-e30c-8efb6aa35dce"
      },
      "source": [
        "# Для того, чтобы получить имена признаков, воспользуемся функцией\n",
        "#   OneHotEncoder.get_feature_names()\n",
        "# Чтобы ею воспользоваться, необходимо добраться до объекта через атрибуты\n",
        "#   - ColumnTransformer.named_transformers_ + ключ имени\n",
        "#   - Pipeline.named_steps + ключ шага\n",
        "ohe_column_names = preprocessor \\\n",
        "    .named_transformers_['cat'] \\\n",
        "    .named_steps['enc'] \\\n",
        "    .get_feature_names(categorical_features)\n",
        "\n",
        "recovered_feat_names = \\\n",
        "    list(ohe_column_names) + \\\n",
        "    list(numeric_features)\n",
        "\n",
        "df_enc = pd.DataFrame(X_data, columns=recovered_feat_names)\n",
        "\n",
        "df_enc.head()"
      ],
      "execution_count": 24,
      "outputs": [
        {
          "output_type": "execute_result",
          "data": {
            "text/html": [
              "<div>\n",
              "<style scoped>\n",
              "    .dataframe tbody tr th:only-of-type {\n",
              "        vertical-align: middle;\n",
              "    }\n",
              "\n",
              "    .dataframe tbody tr th {\n",
              "        vertical-align: top;\n",
              "    }\n",
              "\n",
              "    .dataframe thead th {\n",
              "        text-align: right;\n",
              "    }\n",
              "</style>\n",
              "<table border=\"1\" class=\"dataframe\">\n",
              "  <thead>\n",
              "    <tr style=\"text-align: right;\">\n",
              "      <th></th>\n",
              "      <th>Sex_female</th>\n",
              "      <th>Sex_male</th>\n",
              "      <th>Embarked_C</th>\n",
              "      <th>Embarked_Q</th>\n",
              "      <th>Embarked_S</th>\n",
              "      <th>Age</th>\n",
              "      <th>Fare</th>\n",
              "    </tr>\n",
              "  </thead>\n",
              "  <tbody>\n",
              "    <tr>\n",
              "      <th>0</th>\n",
              "      <td>0.0</td>\n",
              "      <td>1.0</td>\n",
              "      <td>0.0</td>\n",
              "      <td>0.0</td>\n",
              "      <td>1.0</td>\n",
              "      <td>22.0</td>\n",
              "      <td>7.2500</td>\n",
              "    </tr>\n",
              "    <tr>\n",
              "      <th>1</th>\n",
              "      <td>1.0</td>\n",
              "      <td>0.0</td>\n",
              "      <td>1.0</td>\n",
              "      <td>0.0</td>\n",
              "      <td>0.0</td>\n",
              "      <td>38.0</td>\n",
              "      <td>71.2833</td>\n",
              "    </tr>\n",
              "    <tr>\n",
              "      <th>2</th>\n",
              "      <td>1.0</td>\n",
              "      <td>0.0</td>\n",
              "      <td>0.0</td>\n",
              "      <td>0.0</td>\n",
              "      <td>1.0</td>\n",
              "      <td>26.0</td>\n",
              "      <td>7.9250</td>\n",
              "    </tr>\n",
              "    <tr>\n",
              "      <th>3</th>\n",
              "      <td>1.0</td>\n",
              "      <td>0.0</td>\n",
              "      <td>0.0</td>\n",
              "      <td>0.0</td>\n",
              "      <td>1.0</td>\n",
              "      <td>35.0</td>\n",
              "      <td>53.1000</td>\n",
              "    </tr>\n",
              "    <tr>\n",
              "      <th>4</th>\n",
              "      <td>0.0</td>\n",
              "      <td>1.0</td>\n",
              "      <td>0.0</td>\n",
              "      <td>0.0</td>\n",
              "      <td>1.0</td>\n",
              "      <td>35.0</td>\n",
              "      <td>8.0500</td>\n",
              "    </tr>\n",
              "  </tbody>\n",
              "</table>\n",
              "</div>"
            ],
            "text/plain": [
              "   Sex_female  Sex_male  Embarked_C  Embarked_Q  Embarked_S   Age     Fare\n",
              "0         0.0       1.0         0.0         0.0         1.0  22.0   7.2500\n",
              "1         1.0       0.0         1.0         0.0         0.0  38.0  71.2833\n",
              "2         1.0       0.0         0.0         0.0         1.0  26.0   7.9250\n",
              "3         1.0       0.0         0.0         0.0         1.0  35.0  53.1000\n",
              "4         0.0       1.0         0.0         0.0         1.0  35.0   8.0500"
            ]
          },
          "metadata": {
            "tags": []
          },
          "execution_count": 24
        }
      ]
    },
    {
      "cell_type": "code",
      "metadata": {
        "id": "NWO9io8VOUoW",
        "colab": {
          "base_uri": "https://localhost:8080/",
          "height": 204
        },
        "outputId": "aa8fcb80-d3a8-406e-acaf-98d9705dca81"
      },
      "source": [
        "# Для сравнения выведем исходные данные\n",
        "df[categorical_features + numeric_features].head()"
      ],
      "execution_count": 25,
      "outputs": [
        {
          "output_type": "execute_result",
          "data": {
            "text/html": [
              "<div>\n",
              "<style scoped>\n",
              "    .dataframe tbody tr th:only-of-type {\n",
              "        vertical-align: middle;\n",
              "    }\n",
              "\n",
              "    .dataframe tbody tr th {\n",
              "        vertical-align: top;\n",
              "    }\n",
              "\n",
              "    .dataframe thead th {\n",
              "        text-align: right;\n",
              "    }\n",
              "</style>\n",
              "<table border=\"1\" class=\"dataframe\">\n",
              "  <thead>\n",
              "    <tr style=\"text-align: right;\">\n",
              "      <th></th>\n",
              "      <th>Sex</th>\n",
              "      <th>Embarked</th>\n",
              "      <th>Age</th>\n",
              "      <th>Fare</th>\n",
              "    </tr>\n",
              "  </thead>\n",
              "  <tbody>\n",
              "    <tr>\n",
              "      <th>0</th>\n",
              "      <td>male</td>\n",
              "      <td>S</td>\n",
              "      <td>22.0</td>\n",
              "      <td>7.2500</td>\n",
              "    </tr>\n",
              "    <tr>\n",
              "      <th>1</th>\n",
              "      <td>female</td>\n",
              "      <td>C</td>\n",
              "      <td>38.0</td>\n",
              "      <td>71.2833</td>\n",
              "    </tr>\n",
              "    <tr>\n",
              "      <th>2</th>\n",
              "      <td>female</td>\n",
              "      <td>S</td>\n",
              "      <td>26.0</td>\n",
              "      <td>7.9250</td>\n",
              "    </tr>\n",
              "    <tr>\n",
              "      <th>3</th>\n",
              "      <td>female</td>\n",
              "      <td>S</td>\n",
              "      <td>35.0</td>\n",
              "      <td>53.1000</td>\n",
              "    </tr>\n",
              "    <tr>\n",
              "      <th>4</th>\n",
              "      <td>male</td>\n",
              "      <td>S</td>\n",
              "      <td>35.0</td>\n",
              "      <td>8.0500</td>\n",
              "    </tr>\n",
              "  </tbody>\n",
              "</table>\n",
              "</div>"
            ],
            "text/plain": [
              "      Sex Embarked   Age     Fare\n",
              "0    male        S  22.0   7.2500\n",
              "1  female        C  38.0  71.2833\n",
              "2  female        S  26.0   7.9250\n",
              "3  female        S  35.0  53.1000\n",
              "4    male        S  35.0   8.0500"
            ]
          },
          "metadata": {
            "tags": []
          },
          "execution_count": 25
        }
      ]
    },
    {
      "cell_type": "markdown",
      "metadata": {
        "id": "Wl-Ddd89OL-b"
      },
      "source": [
        "\n",
        "Сутью данного инструмента является сбор инструментов обработки в единый объект уже после этапа поиска подходящих инструментов!\n",
        "\n",
        "Аналогично, нынешний объект `preprocessor` можно разместить внутрь пайплайна вместе с моделью предсказания!\n",
        "![Ну монитор](https://cs8.pikabu.ru/images/big_size_comm/2017-06_6/149883834117099533.jpg)"
      ]
    },
    {
      "cell_type": "markdown",
      "metadata": {
        "id": "v-3jlaUKEbUz"
      },
      "source": [
        "# Разработка модели случайного леса"
      ]
    },
    {
      "cell_type": "markdown",
      "metadata": {
        "id": "v2BKnEhyEe-Q"
      },
      "source": [
        "Подход с использование случайного леса (RandomForest) является одним из подходов группы под названием **ансамблирование**.\n",
        "\n",
        "Ансамблирование - это парадигма, при которой большое количество слабых моделей собираются в группу и принятие конечного решения делается на основе голосования этих моделей. Основной девиз - много слабых моделей дают лучший результат, чем одна большая.\n",
        "\n",
        "Подход RandomForest организует набор *решающих деревьев*. Решающее дерево - бинарное дерево, в котором узлами являются пороги одного из обученных признаков, листьями - предсказываемые классы.\n",
        "\n",
        "Для примера обучим решающее дерево для задачи XOR."
      ]
    },
    {
      "cell_type": "code",
      "metadata": {
        "id": "1lizKt-FGA2J",
        "colab": {
          "base_uri": "https://localhost:8080/",
          "height": 684
        },
        "outputId": "fd54744f-05e0-46bf-e89d-4b3420c83239"
      },
      "source": [
        "import numpy as np\n",
        "\n",
        "# Пример решающего дерева на основе задачи XOR\n",
        "X = np.array([\n",
        "     [1, 1],\n",
        "     [1, 0],\n",
        "     [0, 1],\n",
        "     [0, 0]\n",
        "])\n",
        "\n",
        "y = np.array([\n",
        "     0,\n",
        "     1,\n",
        "     1,\n",
        "     0\n",
        "])\n",
        "\n",
        "plt.figure(figsize=[5,5])\n",
        "plt.scatter(X[y==1, 0], X[y==1, 1], marker='o')\n",
        "plt.scatter(X[y==0, 0], X[y==0, 1], marker='x')\n",
        "plt.xlabel('X[0]')\n",
        "plt.ylabel('X[1]')\n",
        "plt.xlim([-0.5, 1.5])\n",
        "plt.grid()\n",
        "\n",
        "from sklearn.tree import DecisionTreeClassifier, plot_tree\n",
        "\n",
        "tree = DecisionTreeClassifier(random_state=42)\n",
        "tree.fit(X, y)\n",
        "\n",
        "plt.figure()\n",
        "plot_tree(tree, filled=True, rounded=True, impurity=True, class_names=['0', '1'])\n"
      ],
      "execution_count": 26,
      "outputs": [
        {
          "output_type": "execute_result",
          "data": {
            "text/plain": [
              "[Text(167.4, 181.2, 'X[0] <= 0.5\\ngini = 0.5\\nsamples = 4\\nvalue = [2, 2]\\nclass = 0'),\n",
              " Text(83.7, 108.72, 'X[1] <= 0.5\\ngini = 0.5\\nsamples = 2\\nvalue = [1, 1]\\nclass = 0'),\n",
              " Text(41.85, 36.23999999999998, 'gini = 0.0\\nsamples = 1\\nvalue = [1, 0]\\nclass = 0'),\n",
              " Text(125.55000000000001, 36.23999999999998, 'gini = 0.0\\nsamples = 1\\nvalue = [0, 1]\\nclass = 1'),\n",
              " Text(251.10000000000002, 108.72, 'X[1] <= 0.5\\ngini = 0.5\\nsamples = 2\\nvalue = [1, 1]\\nclass = 0'),\n",
              " Text(209.25, 36.23999999999998, 'gini = 0.0\\nsamples = 1\\nvalue = [0, 1]\\nclass = 1'),\n",
              " Text(292.95, 36.23999999999998, 'gini = 0.0\\nsamples = 1\\nvalue = [1, 0]\\nclass = 0')]"
            ]
          },
          "metadata": {
            "tags": []
          },
          "execution_count": 26
        },
        {
          "output_type": "display_data",
          "data": {
            "image/png": "[encoded data removed]",
            "text/plain": [
              "<Figure size 360x360 with 1 Axes>"
            ]
          },
          "metadata": {
            "tags": [],
            "needs_background": "light"
          }
        },
        {
          "output_type": "display_data",
          "data": {
            "image/png": "[encoded data removed]",
            "text/plain": [
              "<Figure size 432x288 with 1 Axes>"
            ]
          },
          "metadata": {
            "tags": [],
            "needs_background": "light"
          }
        }
      ]
    },
    {
      "cell_type": "markdown",
      "metadata": {
        "id": "3Vbk1g4YIzmP"
      },
      "source": [
        "На рисунке представлена визуализация обученного дерева решения для нелинейной задачи XOR. Как видно, каждый узел определяет порог признака, так решение сходится до листьев, в котором и определяется конечное решение дерева (предсказанный класс)."
      ]
    },
    {
      "cell_type": "markdown",
      "metadata": {
        "id": "IRMl2ZIBJ3cO"
      },
      "source": [
        "Случайный лес работает по принципу набора таких деревьев:\n",
        "\n",
        "![Замещающий текст](https://miro.medium.com/max/500/1*VHDtVaDPNepRglIAv72BFg.jpeg)\n",
        "\n",
        "Обучение деревьев происходит на основе алгоритма построения дерева (один из них - [CART](http://pages.stat.wisc.edu/~loh/treeprogs/guide/wires11.pdf)  ~ Classification and regression trees). Построение происходит по принципу поиска наилучших разделений пространства на основе одного из признаков для создания узла и дальнейшего роста.\n",
        "\n",
        "Одной из важных особенностей случайного леса является то, что для обучения каждое дерево из леса получает не полную выборку, а лишь подвыборку из всей обучающей выборки. Такой принцип назван **Bagging**.\n",
        "\n",
        "Деревья сами по себе очень чувствительны ко входным данным, так как могут бесконечно создавать узлы по признакам, чтобы максимально точно разделить классы. По факту, дерево очень легко переобучается на тех данных, которые даны для обучения (построения), если не ограничить глубину дерева.\n",
        "\n",
        "Поэтому при построении каждого малого дерева используется подвыборка, куда могут попадать с повторениями случайные записи из данных со случайными признаками. Таким образом, каждая модель будет видеть лишь часть данных, при этом отдельно каждая слабая модель будет работать плохо, но в совокупности все модели будут давать более точную среднюю оценку в соответсвии с принятием решения по большинству голосов."
      ]
    },
    {
      "cell_type": "code",
      "metadata": {
        "id": "QwZTs7_E4mxs",
        "colab": {
          "base_uri": "https://localhost:8080/"
        },
        "outputId": "f4037720-9205-4f97-8009-230c771d2738"
      },
      "source": [
        "from sklearn.model_selection import train_test_split\n",
        "\n",
        "TRAIN_RATIO = 0.8\n",
        "\n",
        "y_data = df['Survived']\n",
        "\n",
        "X_train, X_test, y_train, y_test = train_test_split(\n",
        "    X_data, y_data, \n",
        "    train_size=TRAIN_RATIO, \n",
        "    random_state=RANDOM_STATE,\n",
        "    stratify=y_data\n",
        ")\n",
        "\n",
        "print(X_train.shape, y_train.shape)\n",
        "print(X_test.shape, y_test.shape)"
      ],
      "execution_count": 27,
      "outputs": [
        {
          "output_type": "stream",
          "text": [
            "(712, 7) (712,)\n",
            "(179, 7) (179,)\n"
          ],
          "name": "stdout"
        }
      ]
    },
    {
      "cell_type": "code",
      "metadata": {
        "id": "KXN4pILYp-fR",
        "colab": {
          "base_uri": "https://localhost:8080/"
        },
        "outputId": "6293c07e-7579-4c47-f7dd-c045521a775b"
      },
      "source": [
        "from sklearn.ensemble import RandomForestClassifier\n",
        "\n",
        "rf_clf = RandomForestClassifier()\n",
        "rf_clf.fit(X_train, y_train)"
      ],
      "execution_count": 28,
      "outputs": [
        {
          "output_type": "execute_result",
          "data": {
            "text/plain": [
              "RandomForestClassifier(bootstrap=True, ccp_alpha=0.0, class_weight=None,\n",
              "                       criterion='gini', max_depth=None, max_features='auto',\n",
              "                       max_leaf_nodes=None, max_samples=None,\n",
              "                       min_impurity_decrease=0.0, min_impurity_split=None,\n",
              "                       min_samples_leaf=1, min_samples_split=2,\n",
              "                       min_weight_fraction_leaf=0.0, n_estimators=100,\n",
              "                       n_jobs=None, oob_score=False, random_state=None,\n",
              "                       verbose=0, warm_start=False)"
            ]
          },
          "metadata": {
            "tags": []
          },
          "execution_count": 28
        }
      ]
    },
    {
      "cell_type": "markdown",
      "metadata": {
        "id": "RzunrMbXoN7Y"
      },
      "source": [
        "# Важность признаков\n",
        "\n",
        "Обучение модели случайного леса позволяет получить оценку важности признаков! Для работы с показателями важности признаков достаточно воспользоваться атрибутом `RandomForestClassifier.feature_importances_`:"
      ]
    },
    {
      "cell_type": "code",
      "metadata": {
        "id": "s7Dxqam-qRoX",
        "colab": {
          "base_uri": "https://localhost:8080/",
          "height": 453
        },
        "outputId": "f4e900e4-fd89-49f7-800b-5705581058db"
      },
      "source": [
        "def show_importance(model, feature_names, X):\n",
        "    importances = model.feature_importances_\n",
        "    for feat_imp, feat_name in zip(importances, feature_names):\n",
        "        print(f'Feature: {feat_name} | {feat_imp}')\n",
        "\n",
        "    indices = np.argsort(importances)[::-1]\n",
        "    sorted_feat_names = [feature_names[ind] for ind in indices]\n",
        "\n",
        "    plt.figure()\n",
        "    plt.title(\"Feature importances\")\n",
        "    plt.bar(range(X.shape[1]), importances[indices], color=\"b\", align=\"center\")\n",
        "    plt.xticks(range(X.shape[1]), sorted_feat_names, rotation=70)\n",
        "    plt.xlim([-1, X.shape[1]])\n",
        "    plt.show()\n",
        "\n",
        "show_importance(rf_clf, recovered_feat_names, X_train)"
      ],
      "execution_count": 29,
      "outputs": [
        {
          "output_type": "stream",
          "text": [
            "Feature: Sex_female | 0.15224129686733381\n",
            "Feature: Sex_male | 0.14384419737286344\n",
            "Feature: Embarked_C | 0.011105298934466924\n",
            "Feature: Embarked_Q | 0.004819245681205841\n",
            "Feature: Embarked_S | 0.013524060985120172\n",
            "Feature: Age | 0.2941428805908806\n",
            "Feature: Fare | 0.3803230195681293\n"
          ],
          "name": "stdout"
        },
        {
          "output_type": "display_data",
          "data": {
            "image/png": "[encoded data removed]",
            "text/plain": [
              "<Figure size 432x288 with 1 Axes>"
            ]
          },
          "metadata": {
            "tags": [],
            "needs_background": "light"
          }
        }
      ]
    },
    {
      "cell_type": "markdown",
      "metadata": {
        "id": "0TqmtpDirZG4"
      },
      "source": [
        "Такой график показывает, как признаки влияли на построение деревьев и насколько каждый из них важен по отношению к другим. \n",
        "\n",
        "> **ВАЖНО:** Несмотря на то, что цель графика - показать, насколько важны признаки для предсказания, **нельзя** полагаться лишь на результаты анализа лесом! Часто такая оценка важности смещена. Для более полного анализа в заданиях попробуйте воспользоваться подходом под названием *Feature Elimination*, который более точно позволяет оценить, какие признаки имеют высокое влияние на принимаемое решение модели! Суть подхода в том, что мы постепенно удаляем один за другим признаки из данных и оцениваем, как это повлияло на работу модели."
      ]
    },
    {
      "cell_type": "markdown",
      "metadata": {
        "id": "J6JRKX9SPI55"
      },
      "source": [
        "# Расширенный анализ данных\n",
        "\n",
        "Результаты построения baseline модели как правило позволяют оценить результаты, которые можно получить наиболее быстрым способом. Дальнейших улучшений можно добиться как настраиванием модели и усложнением алгоритма, так и поиском \"инсайтов\" в данных, что позволит модели более просто понимать зависимости и принимать правильные решения. Для расширения знаний и подходов предлагаю ознакомиться с [хорошей статьей по EDA](https://towardsdatascience.com/predicting-the-survival-of-titanic-passengers-30870ccc7e8), а мы рассмотрим несколько основных способов проанализировать данные и сделать выводы."
      ]
    },
    {
      "cell_type": "markdown",
      "metadata": {
        "id": "g3rwugsCQntR"
      },
      "source": [
        "### Больше графиков!"
      ]
    },
    {
      "cell_type": "markdown",
      "metadata": {
        "id": "KHC3u0UgP1d9"
      },
      "source": [
        "Один из самых простых способов проверить пользу признака - анализ нескольких признаков в совокупности, чтобы понять, какие взаимосвязи имеются и дает ли признак информацию. Начнем с того, что постараемся определить, кто чаще выживает - мужчины или женщины:"
      ]
    },
    {
      "cell_type": "code",
      "metadata": {
        "id": "JOqClg-dQMyT",
        "colab": {
          "base_uri": "https://localhost:8080/",
          "height": 400
        },
        "outputId": "f1fae783-0e50-4a28-b135-4978e3a30c1e"
      },
      "source": [
        "sns.catplot(x=\"Sex\", hue=\"Survived\", kind=\"count\", data=df)"
      ],
      "execution_count": 30,
      "outputs": [
        {
          "output_type": "execute_result",
          "data": {
            "text/plain": [
              "<seaborn.axisgrid.FacetGrid at 0x7fcb7aa3bc88>"
            ]
          },
          "metadata": {
            "tags": []
          },
          "execution_count": 30
        },
        {
          "output_type": "display_data",
          "data": {
            "image/png": "[encoded data removed]",
            "text/plain": [
              "<Figure size 411.875x360 with 1 Axes>"
            ]
          },
          "metadata": {
            "tags": [],
            "needs_background": "light"
          }
        }
      ]
    },
    {
      "cell_type": "markdown",
      "metadata": {
        "id": "vB9lnFfTQPAV"
      },
      "source": [
        "Ответ на графике - выживаемость (Survived = 1) у женского пола больше, что означает необходимость использвания данного признака, так как он влияет на конечное решение! Если бы графики были ровные (все на одном уровне), мы бы не могли по полу человека сказать, кто скорее всего выживет, а значит такой признак бесполезен!"
      ]
    },
    {
      "cell_type": "markdown",
      "metadata": {
        "id": "VK7V7MUHTjyN"
      },
      "source": [
        "Еще одним интересный признак `Pclass`, класс обслуживания, можно проверить, влияет ли он на выживаемость:"
      ]
    },
    {
      "cell_type": "code",
      "metadata": {
        "id": "Pq7J7MptTt0N",
        "colab": {
          "base_uri": "https://localhost:8080/",
          "height": 296
        },
        "outputId": "71521b29-fc63-4763-8ced-bef6d805bd4e"
      },
      "source": [
        "sns.barplot(x='Pclass', y='Survived', data=df)"
      ],
      "execution_count": 31,
      "outputs": [
        {
          "output_type": "execute_result",
          "data": {
            "text/plain": [
              "<matplotlib.axes._subplots.AxesSubplot at 0x7fcb79dcb438>"
            ]
          },
          "metadata": {
            "tags": []
          },
          "execution_count": 31
        },
        {
          "output_type": "display_data",
          "data": {
            "image/png": "[encoded data removed]",
            "text/plain": [
              "<Figure size 432x288 with 1 Axes>"
            ]
          },
          "metadata": {
            "tags": [],
            "needs_background": "light"
          }
        }
      ]
    },
    {
      "cell_type": "markdown",
      "metadata": {
        "id": "CGK8EjIrQp6J"
      },
      "source": [
        "Как видно, класс тоже вносит свое влияние в выживаемость: обслуживание первого класса более склонно к выживанию.\n",
        "\n",
        "Также можно влияние признака проверить отображением через `sns.FacetGrid`, чтобы проверить все значения, связанные с несколькими признаками:"
      ]
    },
    {
      "cell_type": "code",
      "metadata": {
        "id": "Q2uxeuFNSNFl",
        "colab": {
          "base_uri": "https://localhost:8080/",
          "height": 998
        },
        "outputId": "069d05a4-d409-4de7-b65c-89a54a9b3eec"
      },
      "source": [
        "FacetGrid = sns.FacetGrid(df, row='Embarked', height=4.5, aspect=1.6)\n",
        "FacetGrid.map(sns.pointplot, 'Pclass', 'Survived', 'Sex', palette=None,  order=None, hue_order=None)\n",
        "FacetGrid.add_legend()"
      ],
      "execution_count": 32,
      "outputs": [
        {
          "output_type": "execute_result",
          "data": {
            "text/plain": [
              "<seaborn.axisgrid.FacetGrid at 0x7fcb795f3588>"
            ]
          },
          "metadata": {
            "tags": []
          },
          "execution_count": 32
        },
        {
          "output_type": "display_data",
          "data": {
            "image/png": "[encoded data removed]",
            "text/plain": [
              "<Figure size 588.9x972 with 3 Axes>"
            ]
          },
          "metadata": {
            "tags": [],
            "needs_background": "light"
          }
        }
      ]
    },
    {
      "cell_type": "markdown",
      "metadata": {
        "id": "HiaWOyaHUBQl"
      },
      "source": [
        "Как видно, в зависимости от порта посадки, а одних случаях (порты Q и S) женский пол имеет большие шансы на выживание, чего не скажешь о порте C. Тоже свой вклад в предсказания."
      ]
    },
    {
      "cell_type": "markdown",
      "metadata": {
        "id": "1QBBWh_qUX27"
      },
      "source": [
        "## Создание новых признаков\n",
        "\n",
        "Помимо исключения признаков одним из широкоприменяемых подходов является создание новых признаков. Для примера, наличие двух признаков `SibSp` и `Parch` сообщает информацию о количестве родственников на борту. Таким образом, можно сформировать дополнительный признак `FamilySize`."
      ]
    },
    {
      "cell_type": "code",
      "metadata": {
        "id": "BDUAzI3qUc6c"
      },
      "source": [
        "# +1 - we are in family too\n",
        "df['FamilySize'] = df['Parch'] + df['SibSp'] + 1"
      ],
      "execution_count": 33,
      "outputs": []
    },
    {
      "cell_type": "markdown",
      "metadata": {
        "id": "PPBQjUK6Ueco"
      },
      "source": [
        "Новые признаки являются производными от исходных признаков, при этом зависимости не всегда могут являться линейными (например, из даты получить бинарную информацию, является ли день выходным или нет). Такие признаки могут помочь модели найти новые зависимостии и повысить точность.\n",
        "\n",
        "> Как и ранее с генерацией полиномиальных признаков, можно проводить базовые операции над признаками (унивариативно или над несколькими). С одной стороны, можно делать операции на основе логических допущений - если вы понимаете, что новые признаки точно дадут новую информацию. В другой стороны, можно просто перебирать, пока не найдете такие операции, которые дадут прирост в точности, но это бывает долго и неэффективно.\n",
        "\n",
        "Для примера после того, как мы создали свой признак \"размер семьи\", то можно отобразить единый график шансов выживания:"
      ]
    },
    {
      "cell_type": "code",
      "metadata": {
        "id": "xosyxIECUq81",
        "colab": {
          "base_uri": "https://localhost:8080/",
          "height": 279
        },
        "outputId": "1b5d455c-5c1f-4271-bbeb-61e6a2eac87a"
      },
      "source": [
        "axes = sns.pointplot(x='FamilySize', y='Survived', data=df)"
      ],
      "execution_count": 34,
      "outputs": [
        {
          "output_type": "display_data",
          "data": {
            "image/png": "[encoded data removed]",
            "text/plain": [
              "<Figure size 432x288 with 1 Axes>"
            ]
          },
          "metadata": {
            "tags": [],
            "needs_background": "light"
          }
        }
      ]
    },
    {
      "cell_type": "markdown",
      "metadata": {
        "id": "NRr6E7SKUg_i"
      },
      "source": [
        "По такому графику можем видеть, что в зависимости от количества членов семьи меняются и шансы на выживание, при этом есть некоторая \"критическая точка\", что в четыре человека выжить больше шансов, нежели дальнейшее увеличение количества людей в семье на борту."
      ]
    },
    {
      "cell_type": "markdown",
      "metadata": {
        "id": "g-balBdsVlJ4"
      },
      "source": [
        "## Группировка данных (binning)\n",
        "\n",
        "Одним из способов предобработки данных является группировка численные признаков для формирования категориального признака. Суть подхода в том, чтобы заменить непрерывное значение группами, каждая из которых описывает диапазон значений. Таким образом численное значение заменяется категориальным последовательным.\n",
        "\n",
        "Такой подход является с одной стороны методом регуляризации, так как модель учится не на точных значениях, а на группах значений. С другой стороны, такой подход теряет часть информации.\n",
        "\n",
        "Для примера разберем признак `Fare`:"
      ]
    },
    {
      "cell_type": "code",
      "metadata": {
        "id": "v-u16gMOVo9C",
        "colab": {
          "base_uri": "https://localhost:8080/",
          "height": 350
        },
        "outputId": "582a606f-7f6b-4d91-9ed0-ae9f0b55e637"
      },
      "source": [
        "sns.distplot(df['Fare'], bins=50)"
      ],
      "execution_count": 35,
      "outputs": [
        {
          "output_type": "stream",
          "text": [
            "/usr/local/lib/python3.6/dist-packages/seaborn/distributions.py:2551: FutureWarning: `distplot` is a deprecated function and will be removed in a future version. Please adapt your code to use either `displot` (a figure-level function with similar flexibility) or `histplot` (an axes-level function for histograms).\n",
            "  warnings.warn(msg, FutureWarning)\n"
          ],
          "name": "stderr"
        },
        {
          "output_type": "execute_result",
          "data": {
            "text/plain": [
              "<matplotlib.axes._subplots.AxesSubplot at 0x7fcb76bbacc0>"
            ]
          },
          "metadata": {
            "tags": []
          },
          "execution_count": 35
        },
        {
          "output_type": "display_data",
          "data": {
            "image/png": "[encoded data removed]",
            "text/plain": [
              "<Figure size 432x288 with 1 Axes>"
            ]
          },
          "metadata": {
            "tags": [],
            "needs_background": "light"
          }
        }
      ]
    },
    {
      "cell_type": "markdown",
      "metadata": {
        "id": "xHhgSZAcVs1g"
      },
      "source": [
        "Раcпределение немного сдвинуто влево, также слева имеется небольшая мода. Для группировки воспользуется классом `KBinsDiscretizer`, который разделяет весь диапазон на заданное количество групп (бинов)."
      ]
    },
    {
      "cell_type": "code",
      "metadata": {
        "id": "N5GDtNPrVtxA",
        "colab": {
          "base_uri": "https://localhost:8080/",
          "height": 435
        },
        "outputId": "ebfaa7b1-e300-4d05-b8c0-9eeb7a2bbc3c"
      },
      "source": [
        "from sklearn.preprocessing import KBinsDiscretizer\n",
        "\n",
        "discr = KBinsDiscretizer(\n",
        "    # Количество бинов    \n",
        "    n_bins=10,\n",
        "    # Способ кодирования - порядковый\n",
        "    encode='ordinal',\n",
        ")\n",
        "\n",
        "# Двойные скобки для передачи DataFrame (2D данные)\n",
        "df['Fare_groups'] = discr.fit_transform(df[['Fare']])\n",
        "# Отобразим границы бинов\n",
        "print(discr.bin_edges_)\n",
        "\n",
        "sns.catplot(x='Fare_groups', kind=\"count\", data=df)"
      ],
      "execution_count": 36,
      "outputs": [
        {
          "output_type": "stream",
          "text": [
            "[array([  0.    ,   7.55  ,   7.8542,   8.05  ,  10.5   ,  14.4542,\n",
            "        21.6792,  27.    ,  39.6875,  77.9583, 512.3292])]\n"
          ],
          "name": "stdout"
        },
        {
          "output_type": "execute_result",
          "data": {
            "text/plain": [
              "<seaborn.axisgrid.FacetGrid at 0x7fcb7aa19b70>"
            ]
          },
          "metadata": {
            "tags": []
          },
          "execution_count": 36
        },
        {
          "output_type": "display_data",
          "data": {
            "image/png": "[encoded data removed]",
            "text/plain": [
              "<Figure size 360x360 with 1 Axes>"
            ]
          },
          "metadata": {
            "tags": [],
            "needs_background": "light"
          }
        }
      ]
    },
    {
      "cell_type": "markdown",
      "metadata": {
        "id": "qetwJxu4VxLc"
      },
      "source": [
        "Группировка, как видно, привела сильно смещенное влево распределение к равномерному.\n",
        "\n",
        "Более того, теперь мы можем визуально представить зависимость выживаемости от стоимости билета:"
      ]
    },
    {
      "cell_type": "code",
      "metadata": {
        "id": "1viL6R2rYoV4",
        "colab": {
          "base_uri": "https://localhost:8080/",
          "height": 401
        },
        "outputId": "3f7e7cfc-088e-4250-cc2a-67f6ef0c9859"
      },
      "source": [
        "sns.catplot(x='Fare_groups', y='Survived', data=df, kind='point')"
      ],
      "execution_count": 37,
      "outputs": [
        {
          "output_type": "execute_result",
          "data": {
            "text/plain": [
              "<seaborn.axisgrid.FacetGrid at 0x7fcb76c85080>"
            ]
          },
          "metadata": {
            "tags": []
          },
          "execution_count": 37
        },
        {
          "output_type": "display_data",
          "data": {
            "image/png": "[encoded data removed]",
            "text/plain": [
              "<Figure size 360x360 with 1 Axes>"
            ]
          },
          "metadata": {
            "tags": [],
            "needs_background": "light"
          }
        }
      ]
    },
    {
      "cell_type": "markdown",
      "metadata": {
        "id": "_MySO9JhfwYQ"
      },
      "source": [
        "или"
      ]
    },
    {
      "cell_type": "code",
      "metadata": {
        "id": "-2Xo8N-Dfw99",
        "colab": {
          "base_uri": "https://localhost:8080/",
          "height": 401
        },
        "outputId": "64bb927a-33a8-4d33-ea82-bba11cd1a482"
      },
      "source": [
        "sns.catplot(x='Fare_groups', hue='Survived', data=df, kind='count')"
      ],
      "execution_count": 38,
      "outputs": [
        {
          "output_type": "execute_result",
          "data": {
            "text/plain": [
              "<seaborn.axisgrid.FacetGrid at 0x7fcb795dfe80>"
            ]
          },
          "metadata": {
            "tags": []
          },
          "execution_count": 38
        },
        {
          "output_type": "display_data",
          "data": {
            "image/png": "[encoded data removed]",
            "text/plain": [
              "<Figure size 411.875x360 with 1 Axes>"
            ]
          },
          "metadata": {
            "tags": [],
            "needs_background": "light"
          }
        }
      ]
    },
    {
      "cell_type": "markdown",
      "metadata": {
        "id": "5H_58I_0ZhPf"
      },
      "source": [
        "Как видим, сгруппированный признак отображает определенную зависимость выживаемости и стоимости билета. Более высокая стоимость билета имеет больший шанс на выживание.\n",
        "\n",
        "При этом обратите внимание, что сейчас деление на группы произведено по стратегии равного количества во всех группах. Можно попробовать сделать деление по равным диапазонам групп и сравнить!"
      ]
    },
    {
      "cell_type": "markdown",
      "metadata": {
        "id": "sFvp4-nY0pQS"
      },
      "source": [
        "# Поиск гиперпараметров"
      ]
    },
    {
      "cell_type": "markdown",
      "metadata": {
        "id": "PH1FOJ-s0pwP"
      },
      "source": [
        "Как известно, многие модели имеют различные параметры, которые влияют на ход построения модели, максимальные и минимальные ограничения в структуре и др. При этом помним, что и сами модели имеют обучаемые параметры (для случая линейной регрессии, например, это веса при признаках). Те параметры, которые не участвуют в предсказании, но определяют архитектуру или другие внешние характеристики модели называют **гиперпараметрами**.\n",
        "\n",
        "Уже не раз было необходимо произвести поиск и оценку этих гиперпараметров (в KNN - количество соседелей, в Ридж регрессии - $\\alpha$). Ручной поиск хорошо справляется, когда имеется опыт и понимание работы модели, но также существуют и автоматизированные методы поиска - одним из них является **GridSearch**.\n",
        "\n",
        "Основная суть метода в том, что для каждого гиперпараметра задается набор значений, которые требуется попробовать и далее создаётся набор из всех возможных комбинаций заданных гиперпараметров и их значений. Таким образом, исследуемые значения располагаются \"как-бы на сетке\"."
      ]
    },
    {
      "cell_type": "markdown",
      "metadata": {
        "id": "y0lMOLyP00Yq"
      },
      "source": [
        "В качестве реализации воспользуемся классом `sklearn.model_selection.GridSearchCV`, который реализует GridSearch с кросс-валидацией."
      ]
    },
    {
      "cell_type": "code",
      "metadata": {
        "id": "n3sSK28h01oz",
        "colab": {
          "base_uri": "https://localhost:8080/"
        },
        "outputId": "f8a9f22e-b970-40c8-e222-d67f224221ec"
      },
      "source": [
        "from sklearn.model_selection import GridSearchCV\n",
        "\n",
        "parameters = {\n",
        "    'max_depth': [1, 2, 4, 5, 7],\n",
        "    'n_estimators': [1, 5, 10, 20, 40],\n",
        "}\n",
        "\n",
        "grid_search = GridSearchCV(\n",
        "    # модель\n",
        "    estimator=rf_clf,                   \n",
        "    # сетка параметров\n",
        "    #   может быть объектом dict \n",
        "    #   или list с несколькими dict внутри (несколько сеток)\n",
        "    param_grid=parameters,              \n",
        "    # кол-во фолдов для CV\n",
        "    cv=5,                               \n",
        "    # метрика для оценки - используем F1 \n",
        "    scoring='f1_macro',   \n",
        ")\n",
        "\n",
        "grid_search.fit(X_train, y_train)"
      ],
      "execution_count": 39,
      "outputs": [
        {
          "output_type": "execute_result",
          "data": {
            "text/plain": [
              "GridSearchCV(cv=5, error_score=nan,\n",
              "             estimator=RandomForestClassifier(bootstrap=True, ccp_alpha=0.0,\n",
              "                                              class_weight=None,\n",
              "                                              criterion='gini', max_depth=None,\n",
              "                                              max_features='auto',\n",
              "                                              max_leaf_nodes=None,\n",
              "                                              max_samples=None,\n",
              "                                              min_impurity_decrease=0.0,\n",
              "                                              min_impurity_split=None,\n",
              "                                              min_samples_leaf=1,\n",
              "                                              min_samples_split=2,\n",
              "                                              min_weight_fraction_leaf=0.0,\n",
              "                                              n_estimators=100, n_jobs=None,\n",
              "                                              oob_score=False,\n",
              "                                              random_state=None, verbose=0,\n",
              "                                              warm_start=False),\n",
              "             iid='deprecated', n_jobs=None,\n",
              "             param_grid={'max_depth': [1, 2, 4, 5, 7],\n",
              "                         'n_estimators': [1, 5, 10, 20, 40]},\n",
              "             pre_dispatch='2*n_jobs', refit=True, return_train_score=False,\n",
              "             scoring='f1_macro', verbose=0)"
            ]
          },
          "metadata": {
            "tags": []
          },
          "execution_count": 39
        }
      ]
    },
    {
      "cell_type": "code",
      "metadata": {
        "id": "pBq-4BahUGoc",
        "colab": {
          "base_uri": "https://localhost:8080/"
        },
        "outputId": "0069549e-faff-4ce9-e386-600e26c4d893"
      },
      "source": [
        "# Для поиска параметров модели внутри пайплайна используется специальное именование:\n",
        "#   <название шага>__<название параметра>\n",
        "pipe = Pipeline(steps=[\n",
        "    ('clf', RandomForestClassifier()),\n",
        "])\n",
        "\n",
        "# В названии два подчеркивания!\n",
        "parameters = {\n",
        "    'clf__max_depth': [1, 2, 4, 5, 7],\n",
        "    'clf__n_estimators': [1, 5, 10, 20, 40],\n",
        "}\n",
        "\n",
        "grid_search = GridSearchCV(\n",
        "    # пайплайн\n",
        "    estimator=pipe,                   \n",
        "    param_grid=parameters,              \n",
        "    cv=5,                               \n",
        "    scoring='f1_macro',   \n",
        ")\n",
        "\n",
        "grid_search.fit(X_train, y_train)"
      ],
      "execution_count": 40,
      "outputs": [
        {
          "output_type": "execute_result",
          "data": {
            "text/plain": [
              "GridSearchCV(cv=5, error_score=nan,\n",
              "             estimator=Pipeline(memory=None,\n",
              "                                steps=[('clf',\n",
              "                                        RandomForestClassifier(bootstrap=True,\n",
              "                                                               ccp_alpha=0.0,\n",
              "                                                               class_weight=None,\n",
              "                                                               criterion='gini',\n",
              "                                                               max_depth=None,\n",
              "                                                               max_features='auto',\n",
              "                                                               max_leaf_nodes=None,\n",
              "                                                               max_samples=None,\n",
              "                                                               min_impurity_decrease=0.0,\n",
              "                                                               min_impurity_split=None,\n",
              "                                                               min_samples_leaf=1,\n",
              "                                                               min_samples_split=2,\n",
              "                                                               min_weight_fraction_leaf=0.0,\n",
              "                                                               n_estimators=100,\n",
              "                                                               n_jobs=None,\n",
              "                                                               oob_score=False,\n",
              "                                                               random_state=None,\n",
              "                                                               verbose=0,\n",
              "                                                               warm_start=False))],\n",
              "                                verbose=False),\n",
              "             iid='deprecated', n_jobs=None,\n",
              "             param_grid={'clf__max_depth': [1, 2, 4, 5, 7],\n",
              "                         'clf__n_estimators': [1, 5, 10, 20, 40]},\n",
              "             pre_dispatch='2*n_jobs', refit=True, return_train_score=False,\n",
              "             scoring='f1_macro', verbose=0)"
            ]
          },
          "metadata": {
            "tags": []
          },
          "execution_count": 40
        }
      ]
    },
    {
      "cell_type": "markdown",
      "metadata": {
        "id": "9dWFNLF105-k"
      },
      "source": [
        "После того, как поиск закончен, можно посмотреть на сетку сгенерированных параметров через аттрибут `cv_results_` и ключ `params`."
      ]
    },
    {
      "cell_type": "code",
      "metadata": {
        "id": "fXP8lsIc0649",
        "colab": {
          "base_uri": "https://localhost:8080/"
        },
        "outputId": "eb552daa-0b63-4f41-8521-b0e48bf71d93"
      },
      "source": [
        "grid_search.cv_results_['params']"
      ],
      "execution_count": 41,
      "outputs": [
        {
          "output_type": "execute_result",
          "data": {
            "text/plain": [
              "[{'clf__max_depth': 1, 'clf__n_estimators': 1},\n",
              " {'clf__max_depth': 1, 'clf__n_estimators': 5},\n",
              " {'clf__max_depth': 1, 'clf__n_estimators': 10},\n",
              " {'clf__max_depth': 1, 'clf__n_estimators': 20},\n",
              " {'clf__max_depth': 1, 'clf__n_estimators': 40},\n",
              " {'clf__max_depth': 2, 'clf__n_estimators': 1},\n",
              " {'clf__max_depth': 2, 'clf__n_estimators': 5},\n",
              " {'clf__max_depth': 2, 'clf__n_estimators': 10},\n",
              " {'clf__max_depth': 2, 'clf__n_estimators': 20},\n",
              " {'clf__max_depth': 2, 'clf__n_estimators': 40},\n",
              " {'clf__max_depth': 4, 'clf__n_estimators': 1},\n",
              " {'clf__max_depth': 4, 'clf__n_estimators': 5},\n",
              " {'clf__max_depth': 4, 'clf__n_estimators': 10},\n",
              " {'clf__max_depth': 4, 'clf__n_estimators': 20},\n",
              " {'clf__max_depth': 4, 'clf__n_estimators': 40},\n",
              " {'clf__max_depth': 5, 'clf__n_estimators': 1},\n",
              " {'clf__max_depth': 5, 'clf__n_estimators': 5},\n",
              " {'clf__max_depth': 5, 'clf__n_estimators': 10},\n",
              " {'clf__max_depth': 5, 'clf__n_estimators': 20},\n",
              " {'clf__max_depth': 5, 'clf__n_estimators': 40},\n",
              " {'clf__max_depth': 7, 'clf__n_estimators': 1},\n",
              " {'clf__max_depth': 7, 'clf__n_estimators': 5},\n",
              " {'clf__max_depth': 7, 'clf__n_estimators': 10},\n",
              " {'clf__max_depth': 7, 'clf__n_estimators': 20},\n",
              " {'clf__max_depth': 7, 'clf__n_estimators': 40}]"
            ]
          },
          "metadata": {
            "tags": []
          },
          "execution_count": 41
        }
      ]
    },
    {
      "cell_type": "markdown",
      "metadata": {
        "id": "x2yKa2I50-0m"
      },
      "source": [
        "Для получения наилучших параметров и оценки можно воспользоваться аттрибутами `best_params_` и `best_score_`."
      ]
    },
    {
      "cell_type": "code",
      "metadata": {
        "id": "mzZO93G-0_Eu",
        "colab": {
          "base_uri": "https://localhost:8080/"
        },
        "outputId": "43ae5f9e-5254-4bd5-91c1-578e3cf917c7"
      },
      "source": [
        "print(grid_search.best_params_)\n",
        "print(grid_search.best_score_)"
      ],
      "execution_count": 42,
      "outputs": [
        {
          "output_type": "stream",
          "text": [
            "{'clf__max_depth': 4, 'clf__n_estimators': 40}\n",
            "0.7924833908496982\n"
          ],
          "name": "stdout"
        }
      ]
    },
    {
      "cell_type": "markdown",
      "metadata": {
        "id": "zs3yq1WWgclZ"
      },
      "source": [
        "Аналогично для `ColumnTransformer`, для учета этапов необходимо использовать `__` для каждой агрегации операций (пайплайн или трансформер колонок). "
      ]
    },
    {
      "cell_type": "markdown",
      "metadata": {
        "id": "o1jNdLJv8lSc"
      },
      "source": [
        "# Задачи"
      ]
    },
    {
      "cell_type": "markdown",
      "metadata": {
        "id": "-gluX0Ug8p9W"
      },
      "source": [
        "- Проведите базовый анализ данных, разделите данные на обучение/тест, разработайте baseline модель решающего дерева [DecisionTreeClassifier](https://scikit-learn.org/stable/modules/generated/sklearn.tree.DecisionTreeClassifier.html), оцените работу модели, отобразите важности признаков;\n",
        "- Разработайте модель линейной регрессии, оцените и сравните с моделью дерева;\n",
        "- Произведите стандартизацию численных признаков и оцените (сравните) работу моделей с результатами обучения без стандартизации;\n",
        "- Изучите влияние `max_depth` и `criterion` на показатели дерева, попробуйте 5 разных значений для каждого критерия, оцените с помощью кросс-валидации на обучающей выборке, сделайте таблицу;\n",
        "- Проведите расширенный анализ данных, выберите наиболее приоритетные для классификации признаки, сравните выбранные признаки с показателями важности признаков, создайте новые признаки; В результате расширенного анализа обратите внимание на следующие особенностями:\n",
        "    - Проведите создание новых признаков, добавляя каждый новый признак проведите оценку модели:\n",
        "        - `FamilySize` - размер родственников на корабле;\n",
        "        - `IsAlone` - является ли пассажир один на корабле или нет (бинарный признак);\n",
        "        - `FarePerPerson` - оплата билета на человека в семье (воспользоваться `FamilySize`);\n",
        "        - \\*`NameTitle` (если придумаете как) - название титула, сформированое из признака `Name`, редкие титулы стоит объединить в одну группу;\n",
        "    - Оцените работу модели при добавлении группировки признаков `Age`, `Fare`;\n",
        "- Обучите модель дерева и модель леса [RandomForestClassifier](https://scikit-learn.org/stable/modules/generated/sklearn.ensemble.RandomForestClassifier.html) по подготовленным данным;\n",
        "- Оцените влияние аргументов `max_depth` и `n_estimators` на точность модели (5 значений для каждого) с помощью кросс-валидации на обучающей выборке. Постройте таблицу зависимости метрик от величин;\n",
        "- Определите наилучшие параметры для модели случайного леса через [GridSearchCV](https://scikit-learn.org/stable/modules/generated/sklearn.model_selection.GridSearchCV.html);\n",
        "- Определите наилучшие параметры для модели случайного леса через [RandomizedSearchCV](https://scikit-learn.org/stable/modules/generated/sklearn.model_selection.RandomizedSearchCV.html);\n",
        "- Постройте лучшие модели леса и решающего дерева и сравните их по показателям на выборке для теста.\n",
        "- Примените подход [Recursive Feature Elimination](https://scikit-learn.org/stable/modules/generated/sklearn.feature_selection.RFE.html) на лучшую модель случайного леса. Сравните оценку важности признаков RFE и то, что показывает лес.\n",
        "- Постройте ROC кривые моделей, сравните их и сделайте выводы:\n",
        "    - лучшая модель на всех признаках;\n",
        "    - лучшая модель только на топ-7 лучших признаках по RFE;\n",
        "    - лучшая модель на топ-5 лучших признаках по RFE."
      ]
    },
    {
      "cell_type": "code",
      "metadata": {
        "id": "PUL7pToMspdb"
      },
      "source": [
        "# Импорт необходимых модулей \r\n",
        "import matplotlib\r\n",
        "import seaborn as sns\r\n",
        "import matplotlib.pyplot as plt\r\n",
        "import numpy as np\r\n",
        "import pandas as pd\r\n",
        "\r\n",
        "# Настройки для визуализации\r\n",
        "# Если используется темная тема - лучше текст сделать белым\r\n",
        "TEXT_COLOR = 'black'\r\n",
        "\r\n",
        "matplotlib.rcParams['figure.figsize'] = (15, 10)\r\n",
        "matplotlib.rcParams['text.color'] = 'black'\r\n",
        "matplotlib.rcParams['font.size'] = 14\r\n",
        "matplotlib.rcParams['axes.labelcolor'] = TEXT_COLOR\r\n",
        "matplotlib.rcParams['xtick.color'] = TEXT_COLOR\r\n",
        "matplotlib.rcParams['ytick.color'] = TEXT_COLOR\r\n",
        "\r\n",
        "# Зафиксируем состояние случайных чисел\r\n",
        "RANDOM_STATE = 42\r\n",
        "np.random.seed(RANDOM_STATE)"
      ],
      "execution_count": 43,
      "outputs": []
    },
    {
      "cell_type": "code",
      "metadata": {
        "id": "z48Eskk1spOs"
      },
      "source": [
        "URL = 'https://raw.githubusercontent.com/KaiL4eK/ml_edu/master/datasets/Titanic_train.csv'\r\n",
        "df = pd.read_csv(URL)"
      ],
      "execution_count": 44,
      "outputs": []
    },
    {
      "cell_type": "code",
      "metadata": {
        "colab": {
          "base_uri": "https://localhost:8080/"
        },
        "id": "5IaasrVHso3w",
        "outputId": "3ecb712b-9944-47b6-e721-56c11e14a0ea"
      },
      "source": [
        "from sklearn.impute import SimpleImputer\r\n",
        "from sklearn.preprocessing import OneHotEncoder\r\n",
        "from sklearn.compose import ColumnTransformer\r\n",
        "from sklearn.pipeline import Pipeline\r\n",
        "\r\n",
        "# Составляем список признаков для обработки\r\n",
        "categorical_features = ['Sex', 'Embarked']\r\n",
        "numeric_features = ['Pclass','Age', 'Fare','SibSp',\t'Parch']\r\n",
        "\r\n",
        "# Создаем обработчик категориальных признаков\r\n",
        "categorical_transformer = Pipeline(\r\n",
        "    steps=[\r\n",
        "        ('imp', SimpleImputer(strategy='most_frequent')),\r\n",
        "        ('enc', OneHotEncoder(handle_unknown='error')),                   \r\n",
        "])\r\n",
        "\r\n",
        "# Численные значения имеют пропуски, заполним стратегией медианы\r\n",
        "numeric_transformer = SimpleImputer(strategy='median')\r\n",
        "\r\n",
        "# Создаем конечный конвертер, который будет использован для \r\n",
        "#   предобработки\r\n",
        "preprocessor = ColumnTransformer(\r\n",
        "    # Список конвертеров, каждый кортеж содержит\r\n",
        "    #   имя, конвертер и признаки, на которые он будет применен\r\n",
        "    transformers=[\r\n",
        "        ('cat', categorical_transformer, categorical_features),\r\n",
        "        ('num', numeric_transformer, numeric_features)\r\n",
        "    ],\r\n",
        "    # Признаки, не указанные ни в одном из конвертеров будут удалены\r\n",
        "    remainder='drop'\r\n",
        ")\r\n",
        "\r\n",
        "preprocessor.fit(df)\r\n",
        "\r\n",
        "X_data = preprocessor.transform(df)\r\n",
        "\r\n",
        "print(type(X_data))\r\n",
        "print(X_data.shape)"
      ],
      "execution_count": 45,
      "outputs": [
        {
          "output_type": "stream",
          "text": [
            "<class 'numpy.ndarray'>\n",
            "(891, 10)\n"
          ],
          "name": "stdout"
        }
      ]
    },
    {
      "cell_type": "code",
      "metadata": {
        "id": "udi533Azsoko"
      },
      "source": [
        "from sklearn.model_selection import train_test_split\r\n",
        "\r\n",
        "TRAIN_RATIO = 0.8\r\n",
        "\r\n",
        "y_data = df['Survived']\r\n",
        "\r\n",
        "X_train, X_test, y_train, y_test = train_test_split(\r\n",
        "    X_data, y_data, \r\n",
        "    train_size=TRAIN_RATIO, \r\n",
        "    random_state=RANDOM_STATE,\r\n",
        "    stratify=y_data\r\n",
        ")"
      ],
      "execution_count": 46,
      "outputs": []
    },
    {
      "cell_type": "code",
      "metadata": {
        "id": "LwbmX5jTsoME"
      },
      "source": [
        "from sklearn.metrics import f1_score"
      ],
      "execution_count": 47,
      "outputs": []
    },
    {
      "cell_type": "code",
      "metadata": {
        "id": "4P9DJhM4sn0w"
      },
      "source": [
        "#оценка важности признаков\r\n",
        "def show_importance(model, feature_names, X):\r\n",
        "    importances = model.feature_importances_\r\n",
        "    for feat_imp, feat_name in zip(importances, feature_names):\r\n",
        "        print(f'Feature: {feat_name} | {feat_imp}')\r\n",
        "\r\n",
        "    indices = np.argsort(importances)[::-1]\r\n",
        "    sorted_feat_names = [feature_names[ind] for ind in indices]\r\n",
        "\r\n",
        "    plt.figure()\r\n",
        "    plt.title(\"Feature importances\")\r\n",
        "    plt.bar(range(X.shape[1]), importances[indices], color=\"b\", align=\"center\")\r\n",
        "    plt.xticks(range(X.shape[1]), sorted_feat_names, rotation=70)\r\n",
        "    plt.xlim([-1, X.shape[1]])\r\n",
        "    plt.show()"
      ],
      "execution_count": 53,
      "outputs": []
    },
    {
      "cell_type": "code",
      "metadata": {
        "colab": {
          "base_uri": "https://localhost:8080/",
          "height": 877
        },
        "id": "FIDMseJ2snnG",
        "outputId": "d60d8e4a-73a8-4195-92aa-2dd9ebca3cd0"
      },
      "source": [
        "from sklearn.tree import DecisionTreeClassifier, plot_tree\r\n",
        "\r\n",
        "tree = DecisionTreeClassifier(random_state=42,max_depth=3,criterion='entropy')\r\n",
        "tree.fit(X_train, y_train)\r\n",
        "y_pred=tree.predict(X_test)\r\n",
        "f1 = f1_score(y_test,y_pred)\r\n",
        "print(f'f1_score={f1}')\r\n",
        "ohe_column_names = preprocessor \\\r\n",
        "    .named_transformers_['cat'] \\\r\n",
        "    .named_steps['enc'] \\\r\n",
        "    .get_feature_names(categorical_features)\r\n",
        "\r\n",
        "recovered_feat_names = \\\r\n",
        "    list(ohe_column_names) + \\\r\n",
        "    list(numeric_features)\r\n",
        "show_importance(tree, recovered_feat_names, X_train)"
      ],
      "execution_count": 54,
      "outputs": [
        {
          "output_type": "stream",
          "text": [
            "f1_score=0.7200000000000001\n",
            "Feature: Sex_female | 0.5713000294628707\n",
            "Feature: Sex_male | 0.0\n",
            "Feature: Embarked_C | 0.0\n",
            "Feature: Embarked_Q | 0.0\n",
            "Feature: Embarked_S | 0.0\n",
            "Feature: Pclass | 0.2632878756943254\n",
            "Feature: Age | 0.08967439414171541\n",
            "Feature: Fare | 0.05504374990907275\n",
            "Feature: SibSp | 0.02069395079201579\n",
            "Feature: Parch | 0.0\n"
          ],
          "name": "stdout"
        },
        {
          "output_type": "display_data",
          "data": {
            "image/png": "[encoded data removed]",
            "text/plain": [
              "<Figure size 1080x720 with 1 Axes>"
            ]
          },
          "metadata": {
            "tags": [],
            "needs_background": "light"
          }
        }
      ]
    },
    {
      "cell_type": "code",
      "metadata": {
        "colab": {
          "base_uri": "https://localhost:8080/"
        },
        "id": "qDlQPNKZsnWB",
        "outputId": "792fde48-cea8-4426-ff4f-e26bd03129b9"
      },
      "source": [
        "#модель линейной регрессии\r\n",
        "from sklearn.linear_model import LinearRegression\r\n",
        "\r\n",
        "# Создаем объект\r\n",
        "reg = LinearRegression()\r\n",
        "# Обучаем на выборке для обучения\r\n",
        "reg.fit(X_train, y_train)\r\n",
        "y_pred=np.round(reg.predict(X_test))\r\n",
        "f1 = f1_score(y_test,y_pred)\r\n",
        "print(f'f1_score={f1}')"
      ],
      "execution_count": 55,
      "outputs": [
        {
          "output_type": "stream",
          "text": [
            "f1_score=0.7384615384615385\n"
          ],
          "name": "stdout"
        }
      ]
    },
    {
      "cell_type": "code",
      "metadata": {
        "id": "mRbFQo4CsnC4"
      },
      "source": [
        "#модели с нормализацией\r\n",
        "from sklearn.preprocessing import StandardScaler\r\n",
        "\r\n",
        "scaler = StandardScaler()\r\n",
        "reg = LinearRegression()\r\n",
        "# \"Обучение\" трансформера - определение параметров средних и отклонений\r\n",
        "scaler.fit(X_train)\r\n",
        "\r\n",
        "# Стандартизация данных\r\n",
        "X_train_scaled = scaler.transform(X_train)\r\n",
        "X_test_scaled = scaler.transform(X_test)"
      ],
      "execution_count": 56,
      "outputs": []
    },
    {
      "cell_type": "code",
      "metadata": {
        "colab": {
          "base_uri": "https://localhost:8080/",
          "height": 877
        },
        "id": "LnsML3GEsm2w",
        "outputId": "1d0d0e4d-bf58-47b0-d46d-cc53518ff8a3"
      },
      "source": [
        "tree = DecisionTreeClassifier(random_state=42,max_depth=3,criterion='entropy')\r\n",
        "tree.fit(X_train_scaled, y_train)\r\n",
        "y_pred=tree.predict(X_test_scaled)\r\n",
        "f1 = f1_score(y_test,y_pred)\r\n",
        "print(f'f1_score={f1}')\r\n",
        "show_importance(tree, recovered_feat_names, X_train_scaled)"
      ],
      "execution_count": 57,
      "outputs": [
        {
          "output_type": "stream",
          "text": [
            "f1_score=0.7200000000000001\n",
            "Feature: Sex_female | 0.5713000294628707\n",
            "Feature: Sex_male | 0.0\n",
            "Feature: Embarked_C | 0.0\n",
            "Feature: Embarked_Q | 0.0\n",
            "Feature: Embarked_S | 0.0\n",
            "Feature: Pclass | 0.2632878756943254\n",
            "Feature: Age | 0.08967439414171541\n",
            "Feature: Fare | 0.05504374990907275\n",
            "Feature: SibSp | 0.02069395079201579\n",
            "Feature: Parch | 0.0\n"
          ],
          "name": "stdout"
        },
        {
          "output_type": "display_data",
          "data": {
            "image/png": "[encoded data removed]",
            "text/plain": [
              "<Figure size 1080x720 with 1 Axes>"
            ]
          },
          "metadata": {
            "tags": [],
            "needs_background": "light"
          }
        }
      ]
    },
    {
      "cell_type": "code",
      "metadata": {
        "colab": {
          "base_uri": "https://localhost:8080/"
        },
        "id": "DzE5Z5LJsmiI",
        "outputId": "ddc66edf-a51e-4002-9256-fbf4a7fb4f63"
      },
      "source": [
        "# Создаем объект\r\n",
        "reg = LinearRegression()\r\n",
        "# Обучаем на выборке для обучения\r\n",
        "reg.fit(X_train_scaled, y_train)\r\n",
        "y_pred=np.round(reg.predict(X_test_scaled))\r\n",
        "f1 = f1_score(y_test,y_pred)\r\n",
        "print(f'f1_score={f1}')"
      ],
      "execution_count": 58,
      "outputs": [
        {
          "output_type": "stream",
          "text": [
            "f1_score=0.7039999999999998\n"
          ],
          "name": "stdout"
        }
      ]
    },
    {
      "cell_type": "code",
      "metadata": {
        "colab": {
          "base_uri": "https://localhost:8080/",
          "height": 483
        },
        "id": "0Ry9ggW2ubKZ",
        "outputId": "c0b773d4-493d-459c-a474-f20644b426dd"
      },
      "source": [
        "\r\n",
        "from sklearn.model_selection import cross_val_score\r\n",
        "f1_scores=np.ndarray([14,2])\r\n",
        "criterions={\"gini\", \"entropy\"}\r\n",
        "max_depths=np.array(range(1,15,1))\r\n",
        "for i, max_depth in enumerate(max_depths):\r\n",
        "  for j, criterion in enumerate(criterions):\r\n",
        "    tree = DecisionTreeClassifier(random_state=42,max_depth=max_depth,criterion=criterion)\r\n",
        "    scores = cross_val_score(\r\n",
        "      tree,     # Модель для оценки\r\n",
        "      X_data,          # Данные для обучения\r\n",
        "      y_data,          # Разметка для обучения\r\n",
        "      cv=5,       # Количество фолдов\r\n",
        "      scoring='f1_macro'  # Желаемая метрика\r\n",
        "    )\r\n",
        "    f1_scores[i,j]=scores.mean();\r\n",
        "table=pd.DataFrame(data=f1_scores,columns=criterions,index=max_depths)\r\n",
        "table"
      ],
      "execution_count": 59,
      "outputs": [
        {
          "output_type": "execute_result",
          "data": {
            "text/html": [
              "<div>\n",
              "<style scoped>\n",
              "    .dataframe tbody tr th:only-of-type {\n",
              "        vertical-align: middle;\n",
              "    }\n",
              "\n",
              "    .dataframe tbody tr th {\n",
              "        vertical-align: top;\n",
              "    }\n",
              "\n",
              "    .dataframe thead th {\n",
              "        text-align: right;\n",
              "    }\n",
              "</style>\n",
              "<table border=\"1\" class=\"dataframe\">\n",
              "  <thead>\n",
              "    <tr style=\"text-align: right;\">\n",
              "      <th></th>\n",
              "      <th>entropy</th>\n",
              "      <th>gini</th>\n",
              "    </tr>\n",
              "  </thead>\n",
              "  <tbody>\n",
              "    <tr>\n",
              "      <th>1</th>\n",
              "      <td>0.770358</td>\n",
              "      <td>0.770358</td>\n",
              "    </tr>\n",
              "    <tr>\n",
              "      <th>2</th>\n",
              "      <td>0.740627</td>\n",
              "      <td>0.740627</td>\n",
              "    </tr>\n",
              "    <tr>\n",
              "      <th>3</th>\n",
              "      <td>0.798474</td>\n",
              "      <td>0.789666</td>\n",
              "    </tr>\n",
              "    <tr>\n",
              "      <th>4</th>\n",
              "      <td>0.778904</td>\n",
              "      <td>0.778416</td>\n",
              "    </tr>\n",
              "    <tr>\n",
              "      <th>5</th>\n",
              "      <td>0.791622</td>\n",
              "      <td>0.793978</td>\n",
              "    </tr>\n",
              "    <tr>\n",
              "      <th>6</th>\n",
              "      <td>0.778847</td>\n",
              "      <td>0.796681</td>\n",
              "    </tr>\n",
              "    <tr>\n",
              "      <th>7</th>\n",
              "      <td>0.792793</td>\n",
              "      <td>0.791572</td>\n",
              "    </tr>\n",
              "    <tr>\n",
              "      <th>8</th>\n",
              "      <td>0.793234</td>\n",
              "      <td>0.793954</td>\n",
              "    </tr>\n",
              "    <tr>\n",
              "      <th>9</th>\n",
              "      <td>0.794862</td>\n",
              "      <td>0.793432</td>\n",
              "    </tr>\n",
              "    <tr>\n",
              "      <th>10</th>\n",
              "      <td>0.787982</td>\n",
              "      <td>0.794543</td>\n",
              "    </tr>\n",
              "    <tr>\n",
              "      <th>11</th>\n",
              "      <td>0.778495</td>\n",
              "      <td>0.781054</td>\n",
              "    </tr>\n",
              "    <tr>\n",
              "      <th>12</th>\n",
              "      <td>0.784727</td>\n",
              "      <td>0.778865</td>\n",
              "    </tr>\n",
              "    <tr>\n",
              "      <th>13</th>\n",
              "      <td>0.778555</td>\n",
              "      <td>0.774521</td>\n",
              "    </tr>\n",
              "    <tr>\n",
              "      <th>14</th>\n",
              "      <td>0.768258</td>\n",
              "      <td>0.773707</td>\n",
              "    </tr>\n",
              "  </tbody>\n",
              "</table>\n",
              "</div>"
            ],
            "text/plain": [
              "     entropy      gini\n",
              "1   0.770358  0.770358\n",
              "2   0.740627  0.740627\n",
              "3   0.798474  0.789666\n",
              "4   0.778904  0.778416\n",
              "5   0.791622  0.793978\n",
              "6   0.778847  0.796681\n",
              "7   0.792793  0.791572\n",
              "8   0.793234  0.793954\n",
              "9   0.794862  0.793432\n",
              "10  0.787982  0.794543\n",
              "11  0.778495  0.781054\n",
              "12  0.784727  0.778865\n",
              "13  0.778555  0.774521\n",
              "14  0.768258  0.773707"
            ]
          },
          "metadata": {
            "tags": []
          },
          "execution_count": 59
        }
      ]
    },
    {
      "cell_type": "markdown",
      "metadata": {
        "id": "B-wSqskGuhsL"
      },
      "source": [
        "максимальная глубина дерева 3, категория entropy"
      ]
    },
    {
      "cell_type": "code",
      "metadata": {
        "id": "YEFNaEo-uaIv"
      },
      "source": [
        "df['FamilySize'] = df['Parch'] + df['SibSp'] + 1\r\n",
        "isAlone=list();\r\n",
        "for pers in df['FamilySize']:\r\n",
        "  if pers==1: isAlone.append(1);\r\n",
        "  else: isAlone.append(0);\r\n",
        "df['isAlone'] = isAlone\r\n",
        "df['FarePerPerson'] = df['FamilySize']/df['Fare']"
      ],
      "execution_count": 60,
      "outputs": []
    },
    {
      "cell_type": "code",
      "metadata": {
        "colab": {
          "base_uri": "https://localhost:8080/",
          "height": 801
        },
        "id": "bBjoNT2yuZ55",
        "outputId": "c9f79af2-d5c4-4362-abca-078a24fed97e"
      },
      "source": [
        "categorical_features = ['Sex']#, 'Embarked'\r\n",
        "numeric_features = ['Pclass','Age', 'Fare','FamilySize']#'SibSp',\t'Parch','isAlone'\r\n",
        "# Создаем обработчик категориальных признаков\r\n",
        "categorical_transformer = Pipeline(\r\n",
        "    steps=[\r\n",
        "        ('imp', SimpleImputer(strategy='most_frequent')),\r\n",
        "        ('enc', OneHotEncoder(handle_unknown='error')),                   \r\n",
        "])\r\n",
        "\r\n",
        "# Численные значения имеют пропуски, заполним стратегией медианы\r\n",
        "numeric_transformer = SimpleImputer(strategy='median')\r\n",
        "\r\n",
        "# Создаем конечный конвертер, который будет использован для \r\n",
        "#   предобработки\r\n",
        "preprocessor = ColumnTransformer(\r\n",
        "    # Список конвертеров, каждый кортеж содержит\r\n",
        "    #   имя, конвертер и признаки, на которые он будет применен\r\n",
        "    transformers=[\r\n",
        "        ('cat', categorical_transformer, categorical_features),\r\n",
        "        ('num', numeric_transformer, numeric_features)\r\n",
        "    ],\r\n",
        "    # Признаки, не указанные ни в одном из конвертеров будут удалены\r\n",
        "    remainder='drop'\r\n",
        ")\r\n",
        "preprocessor.fit(df)\r\n",
        "X_data = preprocessor.transform(df)\r\n",
        "TRAIN_RATIO = 0.8\r\n",
        "\r\n",
        "y_data = df['Survived']\r\n",
        "\r\n",
        "X_train, X_test, y_train, y_test = train_test_split(\r\n",
        "    X_data, y_data, \r\n",
        "    train_size=TRAIN_RATIO, \r\n",
        "    random_state=RANDOM_STATE,\r\n",
        "    stratify=y_data\r\n",
        ")\r\n",
        "ohe_column_names = preprocessor \\\r\n",
        "    .named_transformers_['cat'] \\\r\n",
        "    .named_steps['enc'] \\\r\n",
        "    .get_feature_names(categorical_features)\r\n",
        "\r\n",
        "recovered_feat_names = \\\r\n",
        "    list(ohe_column_names) + \\\r\n",
        "    list(numeric_features)\r\n",
        "tree = DecisionTreeClassifier(random_state=42,max_depth=3,criterion='entropy')\r\n",
        "tree.fit(X_train, y_train)\r\n",
        "y_pred=tree.predict(X_test)\r\n",
        "f1 = f1_score(y_test,y_pred)\r\n",
        "print(f'f1_score={f1}')\r\n",
        "show_importance(tree, recovered_feat_names, X_train)"
      ],
      "execution_count": 61,
      "outputs": [
        {
          "output_type": "stream",
          "text": [
            "f1_score=0.7200000000000001\n",
            "Feature: Sex_female | 0.5693649875674883\n",
            "Feature: Sex_male | 0.0\n",
            "Feature: Pclass | 0.2623960972176224\n",
            "Feature: Age | 0.08937065932522958\n",
            "Feature: Fare | 0.017547499612378704\n",
            "Feature: FamilySize | 0.06132075627728098\n"
          ],
          "name": "stdout"
        },
        {
          "output_type": "display_data",
          "data": {
            "image/png": "[encoded data removed]",
            "text/plain": [
              "<Figure size 1080x720 with 1 Axes>"
            ]
          },
          "metadata": {
            "tags": [],
            "needs_background": "light"
          }
        }
      ]
    },
    {
      "cell_type": "code",
      "metadata": {
        "colab": {
          "base_uri": "https://localhost:8080/"
        },
        "id": "TsCeBpwluZoQ",
        "outputId": "e3c8c766-440a-45c0-f66a-337addd60ab0"
      },
      "source": [
        "from sklearn.preprocessing import KBinsDiscretizer\r\n",
        "ohe_column_names = preprocessor \\\r\n",
        "    .named_transformers_['cat'] \\\r\n",
        "    .named_steps['enc'] \\\r\n",
        "    .get_feature_names(categorical_features)\r\n",
        "\r\n",
        "recovered_feat_names = \\\r\n",
        "    list(ohe_column_names) + \\\r\n",
        "    list(numeric_features)\r\n",
        "\r\n",
        "df_enc = pd.DataFrame(X_data, columns=recovered_feat_names)\r\n",
        "discr1 = KBinsDiscretizer(\r\n",
        "    # Количество бинов    \r\n",
        "    n_bins=10,\r\n",
        "    # Способ кодирования - порядковый\r\n",
        "    encode='ordinal',\r\n",
        ")\r\n",
        "\r\n",
        "# Двойные скобки для передачи DataFrame (2D данные)\r\n",
        "df_enc['Fare'] = discr1.fit_transform(df_enc[['Fare']])\r\n",
        "discr2 = KBinsDiscretizer(\r\n",
        "    # Количество бинов    \r\n",
        "    n_bins=10,\r\n",
        "    # Способ кодирования - порядковый\r\n",
        "    encode='ordinal',\r\n",
        ")\r\n",
        "\r\n",
        "# Двойные скобки для передачи DataFrame (2D данные)\r\n",
        "df_enc['Age'] = discr2.fit_transform(df_enc[['Age']])"
      ],
      "execution_count": 62,
      "outputs": [
        {
          "output_type": "stream",
          "text": [
            "/usr/local/lib/python3.6/dist-packages/sklearn/preprocessing/_discretization.py:197: UserWarning: Bins whose width are too small (i.e., <= 1e-8) in feature 0 are removed. Consider decreasing the number of bins.\n",
            "  'decreasing the number of bins.' % jj)\n"
          ],
          "name": "stderr"
        }
      ]
    },
    {
      "cell_type": "code",
      "metadata": {
        "colab": {
          "base_uri": "https://localhost:8080/",
          "height": 801
        },
        "id": "T1cRWXbdutuF",
        "outputId": "e426bf60-afb0-4e5a-cef2-db2358647cb4"
      },
      "source": [
        "TRAIN_RATIO = 0.8\r\n",
        "\r\n",
        "y_data = df['Survived']\r\n",
        "feature_names=df_enc.columns\r\n",
        "X_data=df_enc[feature_names]\r\n",
        "X_train, X_test, y_train, y_test = train_test_split(\r\n",
        "    X_data, y_data, \r\n",
        "    train_size=TRAIN_RATIO, \r\n",
        "    random_state=RANDOM_STATE,\r\n",
        "    stratify=y_data\r\n",
        ")\r\n",
        "ohe_column_names = preprocessor \\\r\n",
        "    .named_transformers_['cat'] \\\r\n",
        "    .named_steps['enc'] \\\r\n",
        "    .get_feature_names(categorical_features)\r\n",
        "\r\n",
        "recovered_feat_names = \\\r\n",
        "    list(ohe_column_names) + \\\r\n",
        "    list(numeric_features)\r\n",
        "tree = DecisionTreeClassifier(random_state=42,max_depth=3,criterion='entropy')\r\n",
        "tree.fit(X_train, y_train)\r\n",
        "y_pred=tree.predict(X_test)\r\n",
        "f1 = f1_score(y_test,y_pred)\r\n",
        "print(f'f1_score={f1}')\r\n",
        "show_importance(tree, recovered_feat_names, X_train)"
      ],
      "execution_count": 63,
      "outputs": [
        {
          "output_type": "stream",
          "text": [
            "f1_score=0.7301587301587301\n",
            "Feature: Sex_female | 0.6151718074311925\n",
            "Feature: Sex_male | 0.0\n",
            "Feature: Pclass | 0.20219648125470416\n",
            "Feature: Age | 0.025741788537564533\n",
            "Feature: Fare | 0.08182616628929273\n",
            "Feature: FamilySize | 0.07506375648724622\n"
          ],
          "name": "stdout"
        },
        {
          "output_type": "display_data",
          "data": {
            "image/png": "[encoded data removed]",
            "text/plain": [
              "<Figure size 1080x720 with 1 Axes>"
            ]
          },
          "metadata": {
            "tags": [],
            "needs_background": "light"
          }
        }
      ]
    },
    {
      "cell_type": "code",
      "metadata": {
        "colab": {
          "base_uri": "https://localhost:8080/",
          "height": 801
        },
        "id": "Kk7dh9BOutcR",
        "outputId": "f206e18c-1f34-4369-8359-f4034ce6db62"
      },
      "source": [
        "from sklearn.ensemble import RandomForestClassifier\r\n",
        "\r\n",
        "rf_clf = RandomForestClassifier(max_depth=3,criterion='entropy')\r\n",
        "rf_clf.fit(X_train, y_train)\r\n",
        "y_pred=rf_clf.predict(X_test)\r\n",
        "f1 = f1_score(y_test,y_pred)\r\n",
        "print(f'f1_score={f1}')\r\n",
        "show_importance(rf_clf, recovered_feat_names, X_train)"
      ],
      "execution_count": 64,
      "outputs": [
        {
          "output_type": "stream",
          "text": [
            "f1_score=0.7301587301587301\n",
            "Feature: Sex_female | 0.3208190903955398\n",
            "Feature: Sex_male | 0.29178869549920516\n",
            "Feature: Pclass | 0.14476166843861235\n",
            "Feature: Age | 0.04462042092781955\n",
            "Feature: Fare | 0.13313020744725507\n",
            "Feature: FamilySize | 0.06487991729156795\n"
          ],
          "name": "stdout"
        },
        {
          "output_type": "display_data",
          "data": {
            "image/png": "[encoded data removed]",
            "text/plain": [
              "<Figure size 1080x720 with 1 Axes>"
            ]
          },
          "metadata": {
            "tags": [],
            "needs_background": "light"
          }
        }
      ]
    },
    {
      "cell_type": "code",
      "metadata": {
        "colab": {
          "base_uri": "https://localhost:8080/",
          "height": 514
        },
        "id": "Ihqfycf2utKr",
        "outputId": "9d7af0b9-3575-4ed8-9e05-60a0855b8dd4"
      },
      "source": [
        "f1_scores=np.ndarray([15,15])\r\n",
        "n_estimators=np.array(range(1,300,20))\r\n",
        "max_depths=np.array(range(1,30,2))\r\n",
        "for i, max_depth in enumerate(max_depths):\r\n",
        "  for j, n_estimator in enumerate(n_estimators):\r\n",
        "    rf_clf = RandomForestClassifier(max_depth=max_depth,criterion='entropy',n_estimators=n_estimator)\r\n",
        "    scores = cross_val_score(\r\n",
        "      tree,     # Модель для оценки\r\n",
        "      X_data,          # Данные для обучения\r\n",
        "      y_data,          # Разметка для обучения\r\n",
        "      cv=5,       # Количество фолдов\r\n",
        "      scoring='f1_macro'  # Желаемая метрика\r\n",
        "    )\r\n",
        "    f1_scores[i,j]=scores.mean();\r\n",
        "table=pd.DataFrame(data=f1_scores,columns=n_estimators,index=max_depths)\r\n",
        "table"
      ],
      "execution_count": 65,
      "outputs": [
        {
          "output_type": "execute_result",
          "data": {
            "text/html": [
              "<div>\n",
              "<style scoped>\n",
              "    .dataframe tbody tr th:only-of-type {\n",
              "        vertical-align: middle;\n",
              "    }\n",
              "\n",
              "    .dataframe tbody tr th {\n",
              "        vertical-align: top;\n",
              "    }\n",
              "\n",
              "    .dataframe thead th {\n",
              "        text-align: right;\n",
              "    }\n",
              "</style>\n",
              "<table border=\"1\" class=\"dataframe\">\n",
              "  <thead>\n",
              "    <tr style=\"text-align: right;\">\n",
              "      <th></th>\n",
              "      <th>1</th>\n",
              "      <th>21</th>\n",
              "      <th>41</th>\n",
              "      <th>61</th>\n",
              "      <th>81</th>\n",
              "      <th>101</th>\n",
              "      <th>121</th>\n",
              "      <th>141</th>\n",
              "      <th>161</th>\n",
              "      <th>181</th>\n",
              "      <th>201</th>\n",
              "      <th>221</th>\n",
              "      <th>241</th>\n",
              "      <th>261</th>\n",
              "      <th>281</th>\n",
              "    </tr>\n",
              "  </thead>\n",
              "  <tbody>\n",
              "    <tr>\n",
              "      <th>1</th>\n",
              "      <td>0.794808</td>\n",
              "      <td>0.794808</td>\n",
              "      <td>0.794808</td>\n",
              "      <td>0.794808</td>\n",
              "      <td>0.794808</td>\n",
              "      <td>0.794808</td>\n",
              "      <td>0.794808</td>\n",
              "      <td>0.794808</td>\n",
              "      <td>0.794808</td>\n",
              "      <td>0.794808</td>\n",
              "      <td>0.794808</td>\n",
              "      <td>0.794808</td>\n",
              "      <td>0.794808</td>\n",
              "      <td>0.794808</td>\n",
              "      <td>0.794808</td>\n",
              "    </tr>\n",
              "    <tr>\n",
              "      <th>3</th>\n",
              "      <td>0.794808</td>\n",
              "      <td>0.794808</td>\n",
              "      <td>0.794808</td>\n",
              "      <td>0.794808</td>\n",
              "      <td>0.794808</td>\n",
              "      <td>0.794808</td>\n",
              "      <td>0.794808</td>\n",
              "      <td>0.794808</td>\n",
              "      <td>0.794808</td>\n",
              "      <td>0.794808</td>\n",
              "      <td>0.794808</td>\n",
              "      <td>0.794808</td>\n",
              "      <td>0.794808</td>\n",
              "      <td>0.794808</td>\n",
              "      <td>0.794808</td>\n",
              "    </tr>\n",
              "    <tr>\n",
              "      <th>5</th>\n",
              "      <td>0.794808</td>\n",
              "      <td>0.794808</td>\n",
              "      <td>0.794808</td>\n",
              "      <td>0.794808</td>\n",
              "      <td>0.794808</td>\n",
              "      <td>0.794808</td>\n",
              "      <td>0.794808</td>\n",
              "      <td>0.794808</td>\n",
              "      <td>0.794808</td>\n",
              "      <td>0.794808</td>\n",
              "      <td>0.794808</td>\n",
              "      <td>0.794808</td>\n",
              "      <td>0.794808</td>\n",
              "      <td>0.794808</td>\n",
              "      <td>0.794808</td>\n",
              "    </tr>\n",
              "    <tr>\n",
              "      <th>7</th>\n",
              "      <td>0.794808</td>\n",
              "      <td>0.794808</td>\n",
              "      <td>0.794808</td>\n",
              "      <td>0.794808</td>\n",
              "      <td>0.794808</td>\n",
              "      <td>0.794808</td>\n",
              "      <td>0.794808</td>\n",
              "      <td>0.794808</td>\n",
              "      <td>0.794808</td>\n",
              "      <td>0.794808</td>\n",
              "      <td>0.794808</td>\n",
              "      <td>0.794808</td>\n",
              "      <td>0.794808</td>\n",
              "      <td>0.794808</td>\n",
              "      <td>0.794808</td>\n",
              "    </tr>\n",
              "    <tr>\n",
              "      <th>9</th>\n",
              "      <td>0.794808</td>\n",
              "      <td>0.794808</td>\n",
              "      <td>0.794808</td>\n",
              "      <td>0.794808</td>\n",
              "      <td>0.794808</td>\n",
              "      <td>0.794808</td>\n",
              "      <td>0.794808</td>\n",
              "      <td>0.794808</td>\n",
              "      <td>0.794808</td>\n",
              "      <td>0.794808</td>\n",
              "      <td>0.794808</td>\n",
              "      <td>0.794808</td>\n",
              "      <td>0.794808</td>\n",
              "      <td>0.794808</td>\n",
              "      <td>0.794808</td>\n",
              "    </tr>\n",
              "    <tr>\n",
              "      <th>11</th>\n",
              "      <td>0.794808</td>\n",
              "      <td>0.794808</td>\n",
              "      <td>0.794808</td>\n",
              "      <td>0.794808</td>\n",
              "      <td>0.794808</td>\n",
              "      <td>0.794808</td>\n",
              "      <td>0.794808</td>\n",
              "      <td>0.794808</td>\n",
              "      <td>0.794808</td>\n",
              "      <td>0.794808</td>\n",
              "      <td>0.794808</td>\n",
              "      <td>0.794808</td>\n",
              "      <td>0.794808</td>\n",
              "      <td>0.794808</td>\n",
              "      <td>0.794808</td>\n",
              "    </tr>\n",
              "    <tr>\n",
              "      <th>13</th>\n",
              "      <td>0.794808</td>\n",
              "      <td>0.794808</td>\n",
              "      <td>0.794808</td>\n",
              "      <td>0.794808</td>\n",
              "      <td>0.794808</td>\n",
              "      <td>0.794808</td>\n",
              "      <td>0.794808</td>\n",
              "      <td>0.794808</td>\n",
              "      <td>0.794808</td>\n",
              "      <td>0.794808</td>\n",
              "      <td>0.794808</td>\n",
              "      <td>0.794808</td>\n",
              "      <td>0.794808</td>\n",
              "      <td>0.794808</td>\n",
              "      <td>0.794808</td>\n",
              "    </tr>\n",
              "    <tr>\n",
              "      <th>15</th>\n",
              "      <td>0.794808</td>\n",
              "      <td>0.794808</td>\n",
              "      <td>0.794808</td>\n",
              "      <td>0.794808</td>\n",
              "      <td>0.794808</td>\n",
              "      <td>0.794808</td>\n",
              "      <td>0.794808</td>\n",
              "      <td>0.794808</td>\n",
              "      <td>0.794808</td>\n",
              "      <td>0.794808</td>\n",
              "      <td>0.794808</td>\n",
              "      <td>0.794808</td>\n",
              "      <td>0.794808</td>\n",
              "      <td>0.794808</td>\n",
              "      <td>0.794808</td>\n",
              "    </tr>\n",
              "    <tr>\n",
              "      <th>17</th>\n",
              "      <td>0.794808</td>\n",
              "      <td>0.794808</td>\n",
              "      <td>0.794808</td>\n",
              "      <td>0.794808</td>\n",
              "      <td>0.794808</td>\n",
              "      <td>0.794808</td>\n",
              "      <td>0.794808</td>\n",
              "      <td>0.794808</td>\n",
              "      <td>0.794808</td>\n",
              "      <td>0.794808</td>\n",
              "      <td>0.794808</td>\n",
              "      <td>0.794808</td>\n",
              "      <td>0.794808</td>\n",
              "      <td>0.794808</td>\n",
              "      <td>0.794808</td>\n",
              "    </tr>\n",
              "    <tr>\n",
              "      <th>19</th>\n",
              "      <td>0.794808</td>\n",
              "      <td>0.794808</td>\n",
              "      <td>0.794808</td>\n",
              "      <td>0.794808</td>\n",
              "      <td>0.794808</td>\n",
              "      <td>0.794808</td>\n",
              "      <td>0.794808</td>\n",
              "      <td>0.794808</td>\n",
              "      <td>0.794808</td>\n",
              "      <td>0.794808</td>\n",
              "      <td>0.794808</td>\n",
              "      <td>0.794808</td>\n",
              "      <td>0.794808</td>\n",
              "      <td>0.794808</td>\n",
              "      <td>0.794808</td>\n",
              "    </tr>\n",
              "    <tr>\n",
              "      <th>21</th>\n",
              "      <td>0.794808</td>\n",
              "      <td>0.794808</td>\n",
              "      <td>0.794808</td>\n",
              "      <td>0.794808</td>\n",
              "      <td>0.794808</td>\n",
              "      <td>0.794808</td>\n",
              "      <td>0.794808</td>\n",
              "      <td>0.794808</td>\n",
              "      <td>0.794808</td>\n",
              "      <td>0.794808</td>\n",
              "      <td>0.794808</td>\n",
              "      <td>0.794808</td>\n",
              "      <td>0.794808</td>\n",
              "      <td>0.794808</td>\n",
              "      <td>0.794808</td>\n",
              "    </tr>\n",
              "    <tr>\n",
              "      <th>23</th>\n",
              "      <td>0.794808</td>\n",
              "      <td>0.794808</td>\n",
              "      <td>0.794808</td>\n",
              "      <td>0.794808</td>\n",
              "      <td>0.794808</td>\n",
              "      <td>0.794808</td>\n",
              "      <td>0.794808</td>\n",
              "      <td>0.794808</td>\n",
              "      <td>0.794808</td>\n",
              "      <td>0.794808</td>\n",
              "      <td>0.794808</td>\n",
              "      <td>0.794808</td>\n",
              "      <td>0.794808</td>\n",
              "      <td>0.794808</td>\n",
              "      <td>0.794808</td>\n",
              "    </tr>\n",
              "    <tr>\n",
              "      <th>25</th>\n",
              "      <td>0.794808</td>\n",
              "      <td>0.794808</td>\n",
              "      <td>0.794808</td>\n",
              "      <td>0.794808</td>\n",
              "      <td>0.794808</td>\n",
              "      <td>0.794808</td>\n",
              "      <td>0.794808</td>\n",
              "      <td>0.794808</td>\n",
              "      <td>0.794808</td>\n",
              "      <td>0.794808</td>\n",
              "      <td>0.794808</td>\n",
              "      <td>0.794808</td>\n",
              "      <td>0.794808</td>\n",
              "      <td>0.794808</td>\n",
              "      <td>0.794808</td>\n",
              "    </tr>\n",
              "    <tr>\n",
              "      <th>27</th>\n",
              "      <td>0.794808</td>\n",
              "      <td>0.794808</td>\n",
              "      <td>0.794808</td>\n",
              "      <td>0.794808</td>\n",
              "      <td>0.794808</td>\n",
              "      <td>0.794808</td>\n",
              "      <td>0.794808</td>\n",
              "      <td>0.794808</td>\n",
              "      <td>0.794808</td>\n",
              "      <td>0.794808</td>\n",
              "      <td>0.794808</td>\n",
              "      <td>0.794808</td>\n",
              "      <td>0.794808</td>\n",
              "      <td>0.794808</td>\n",
              "      <td>0.794808</td>\n",
              "    </tr>\n",
              "    <tr>\n",
              "      <th>29</th>\n",
              "      <td>0.794808</td>\n",
              "      <td>0.794808</td>\n",
              "      <td>0.794808</td>\n",
              "      <td>0.794808</td>\n",
              "      <td>0.794808</td>\n",
              "      <td>0.794808</td>\n",
              "      <td>0.794808</td>\n",
              "      <td>0.794808</td>\n",
              "      <td>0.794808</td>\n",
              "      <td>0.794808</td>\n",
              "      <td>0.794808</td>\n",
              "      <td>0.794808</td>\n",
              "      <td>0.794808</td>\n",
              "      <td>0.794808</td>\n",
              "      <td>0.794808</td>\n",
              "    </tr>\n",
              "  </tbody>\n",
              "</table>\n",
              "</div>"
            ],
            "text/plain": [
              "         1         21        41   ...       241       261       281\n",
              "1   0.794808  0.794808  0.794808  ...  0.794808  0.794808  0.794808\n",
              "3   0.794808  0.794808  0.794808  ...  0.794808  0.794808  0.794808\n",
              "5   0.794808  0.794808  0.794808  ...  0.794808  0.794808  0.794808\n",
              "7   0.794808  0.794808  0.794808  ...  0.794808  0.794808  0.794808\n",
              "9   0.794808  0.794808  0.794808  ...  0.794808  0.794808  0.794808\n",
              "11  0.794808  0.794808  0.794808  ...  0.794808  0.794808  0.794808\n",
              "13  0.794808  0.794808  0.794808  ...  0.794808  0.794808  0.794808\n",
              "15  0.794808  0.794808  0.794808  ...  0.794808  0.794808  0.794808\n",
              "17  0.794808  0.794808  0.794808  ...  0.794808  0.794808  0.794808\n",
              "19  0.794808  0.794808  0.794808  ...  0.794808  0.794808  0.794808\n",
              "21  0.794808  0.794808  0.794808  ...  0.794808  0.794808  0.794808\n",
              "23  0.794808  0.794808  0.794808  ...  0.794808  0.794808  0.794808\n",
              "25  0.794808  0.794808  0.794808  ...  0.794808  0.794808  0.794808\n",
              "27  0.794808  0.794808  0.794808  ...  0.794808  0.794808  0.794808\n",
              "29  0.794808  0.794808  0.794808  ...  0.794808  0.794808  0.794808\n",
              "\n",
              "[15 rows x 15 columns]"
            ]
          },
          "metadata": {
            "tags": []
          },
          "execution_count": 65
        }
      ]
    },
    {
      "cell_type": "code",
      "metadata": {
        "colab": {
          "base_uri": "https://localhost:8080/"
        },
        "id": "d_7VTH6BuZUs",
        "outputId": "5490ed02-4f13-42b0-e9b8-e3235af600af"
      },
      "source": [
        "from sklearn.model_selection import GridSearchCV\r\n",
        "rf_clf = RandomForestClassifier( )\r\n",
        "parameters = {\r\n",
        "    'max_depth': [1, 2, 4, 5, 7,9,11],\r\n",
        "    'n_estimators': [1, 5, 10, 20, 40,60,80,100,120],\r\n",
        "    'criterion': ['gini','entropy'],\r\n",
        "}\r\n",
        "\r\n",
        "grid_search = GridSearchCV(\r\n",
        "    # модель\r\n",
        "    estimator=rf_clf,                   \r\n",
        "    # сетка параметров\r\n",
        "    #   может быть объектом dict \r\n",
        "    #   или list с несколькими dict внутри (несколько сеток)\r\n",
        "    param_grid=parameters,              \r\n",
        "    # кол-во фолдов для CV\r\n",
        "    cv=5,                               \r\n",
        "    # метрика для оценки - используем F1 \r\n",
        "    scoring='f1_macro',   \r\n",
        ")\r\n",
        "\r\n",
        "grid_search.fit(X_train, y_train)\r\n",
        "print(grid_search.best_params_)\r\n",
        "print(grid_search.best_score_)"
      ],
      "execution_count": 66,
      "outputs": [
        {
          "output_type": "stream",
          "text": [
            "{'criterion': 'gini', 'max_depth': 7, 'n_estimators': 10}\n",
            "0.8219432173934914\n"
          ],
          "name": "stdout"
        }
      ]
    },
    {
      "cell_type": "markdown",
      "metadata": {
        "id": "fd0Vf6y3vY5R"
      },
      "source": [
        "применение GridSearchCV позволило найти более лучшие параметры для модели дерева, чем простая кросс-валидация"
      ]
    },
    {
      "cell_type": "code",
      "metadata": {
        "colab": {
          "base_uri": "https://localhost:8080/"
        },
        "id": "xopdlhbvvdbw",
        "outputId": "309b2c50-dc0c-4557-9ea2-1f4574d192f4"
      },
      "source": [
        "from sklearn.model_selection import RandomizedSearchCV\r\n",
        "rf_clf = RandomForestClassifier( )\r\n",
        "parameters = {\r\n",
        "    'max_depth': [1, 2, 4, 5, 7,9,11],\r\n",
        "    'n_estimators': [1, 5, 10, 20, 40,60,80,100,120],\r\n",
        "    'criterion': ['gini','entropy'],\r\n",
        "}\r\n",
        "\r\n",
        "rand_search = RandomizedSearchCV(\r\n",
        "    # модель\r\n",
        "    estimator=rf_clf,                   \r\n",
        "    # сетка параметров\r\n",
        "    #   может быть объектом dict \r\n",
        "    #   или list с несколькими dict внутри (несколько сеток)\r\n",
        "    param_distributions=parameters,              \r\n",
        "    # кол-во фолдов для CV\r\n",
        "    cv=5,                               \r\n",
        "    # метрика для оценки - используем F1 \r\n",
        "    scoring='f1_macro',   \r\n",
        ")\r\n",
        "\r\n",
        "rand_search.fit(X_train, y_train)\r\n",
        "print(rand_search.best_params_)\r\n",
        "print(rand_search.best_score_)"
      ],
      "execution_count": 67,
      "outputs": [
        {
          "output_type": "stream",
          "text": [
            "{'n_estimators': 80, 'max_depth': 7, 'criterion': 'entropy'}\n",
            "0.8266074324815694\n"
          ],
          "name": "stdout"
        }
      ]
    },
    {
      "cell_type": "code",
      "metadata": {
        "colab": {
          "base_uri": "https://localhost:8080/"
        },
        "id": "920M8BIovdD-",
        "outputId": "b34b526f-634a-422c-b5fe-8fc3f59b89dc"
      },
      "source": [
        "rf_clf = RandomForestClassifier(max_depth=7,criterion='gini',n_estimators=100)\r\n",
        "rf_clf.fit(X_train, y_train)\r\n",
        "y_pred=rf_clf.predict(X_test)\r\n",
        "f1 = f1_score(y_test,y_pred)\r\n",
        "print(f'f1_score={f1}')\r\n",
        "tree = DecisionTreeClassifier(max_depth=3,criterion='entropy')\r\n",
        "tree.fit(X_train, y_train)\r\n",
        "y_pred=tree.predict(X_test)\r\n",
        "f1 = f1_score(y_test,y_pred)\r\n",
        "print(f'f1_score={f1}')"
      ],
      "execution_count": 68,
      "outputs": [
        {
          "output_type": "stream",
          "text": [
            "f1_score=0.7244094488188977\n",
            "f1_score=0.7301587301587301\n"
          ],
          "name": "stdout"
        }
      ]
    },
    {
      "cell_type": "code",
      "metadata": {
        "id": "GOYtLy2uvclz"
      },
      "source": [
        "URL = 'https://raw.githubusercontent.com/KaiL4eK/ml_edu/master/datasets/Titanic_train.csv'\r\n",
        "df = pd.read_csv(URL)\r\n",
        "df['FamilySize'] = df['Parch'] + df['SibSp'] + 1\r\n",
        "isAlone=list();\r\n",
        "for pers in df['FamilySize']:\r\n",
        "  if pers==1: isAlone.append(1);\r\n",
        "  else: isAlone.append(0);\r\n",
        "df['isAlone'] = isAlone\r\n",
        "discr1 = KBinsDiscretizer(\r\n",
        "    n_bins=10,\r\n",
        "    encode='ordinal',\r\n",
        ")\r\n",
        "\r\n",
        "categorical_features = ['Sex', 'Embarked','isAlone']\r\n",
        "numeric_features = ['Pclass','Age', 'Fare','SibSp',\t'Parch','FamilySize']\r\n",
        "\r\n",
        "categorical_transformer = Pipeline(\r\n",
        "    steps=[\r\n",
        "        ('imp', SimpleImputer(strategy='most_frequent')),\r\n",
        "        ('enc', OneHotEncoder(handle_unknown='error')),                   \r\n",
        "])\r\n",
        "\r\n",
        "numeric_transformer = SimpleImputer(strategy='median')\r\n",
        "preprocessor = ColumnTransformer(\r\n",
        "    transformers=[\r\n",
        "        ('cat', categorical_transformer, categorical_features),\r\n",
        "        ('num', numeric_transformer, numeric_features)\r\n",
        "    ],\r\n",
        "    remainder='drop'\r\n",
        ")\r\n",
        "\r\n",
        "preprocessor.fit(df)\r\n",
        "\r\n",
        "X_data = preprocessor.transform(df)\r\n",
        "y_data = df['Survived']"
      ],
      "execution_count": 69,
      "outputs": []
    },
    {
      "cell_type": "code",
      "metadata": {
        "colab": {
          "base_uri": "https://localhost:8080/"
        },
        "id": "xfOOsp0QvcKA",
        "outputId": "53dc3199-6882-4e9b-b89f-36f6c30ef2f6"
      },
      "source": [
        "from sklearn.datasets import make_friedman1\r\n",
        "from sklearn.feature_selection import RFE\r\n",
        "from sklearn.svm import SVR\r\n",
        "estimator = SVR(kernel=\"linear\")\r\n",
        "selector = RFE(estimator=estimator,n_features_to_select=7, step=1)\r\n",
        "selector = selector.fit(X_data, y_data)\r\n",
        "top7=selector.support_\r\n",
        "print(selector.support_)\r\n",
        "print(selector.ranking_)\r\n",
        "selector = RFE(estimator=estimator,n_features_to_select=5, step=1)\r\n",
        "selector = selector.fit(X_data, y_data)\r\n",
        "top5=selector.support_\r\n",
        "print(selector.support_)\r\n",
        "print(selector.ranking_)"
      ],
      "execution_count": 70,
      "outputs": [
        {
          "output_type": "stream",
          "text": [
            "[ True  True False False False  True  True False False False  True  True\n",
            "  True]\n",
            "[1 1 5 3 4 1 1 2 6 7 1 1 1]\n",
            "[ True  True False False False  True  True False False False  True False\n",
            " False]\n",
            "[1 1 7 5 6 1 1 4 8 9 1 3 2]\n"
          ],
          "name": "stdout"
        }
      ]
    },
    {
      "cell_type": "code",
      "metadata": {
        "id": "Fp9CtzyCvzrb"
      },
      "source": [
        "ohe_column_names = preprocessor \\\r\n",
        "    .named_transformers_['cat'] \\\r\n",
        "    .named_steps['enc'] \\\r\n",
        "    .get_feature_names(categorical_features)\r\n",
        "\r\n",
        "recovered_feat_names = \\\r\n",
        "    list(ohe_column_names) + \\\r\n",
        "    list(numeric_features)"
      ],
      "execution_count": 71,
      "outputs": []
    },
    {
      "cell_type": "code",
      "metadata": {
        "colab": {
          "base_uri": "https://localhost:8080/"
        },
        "id": "aoscyrkFvzVE",
        "outputId": "0ce808b0-927b-4e0b-e84e-43a7eed26f96"
      },
      "source": [
        "# лучшие признаки\r\n",
        "print(np.array(recovered_feat_names)[top5])\r\n",
        "print(np.array(recovered_feat_names)[top7])\r\n",
        "print(recovered_feat_names)"
      ],
      "execution_count": 72,
      "outputs": [
        {
          "output_type": "stream",
          "text": [
            "['Sex_female' 'Sex_male' 'isAlone_0' 'isAlone_1' 'SibSp']\n",
            "['Sex_female' 'Sex_male' 'isAlone_0' 'isAlone_1' 'SibSp' 'Parch'\n",
            " 'FamilySize']\n",
            "['Sex_female', 'Sex_male', 'Embarked_C', 'Embarked_Q', 'Embarked_S', 'isAlone_0', 'isAlone_1', 'Pclass', 'Age', 'Fare', 'SibSp', 'Parch', 'FamilySize']\n"
          ],
          "name": "stdout"
        }
      ]
    },
    {
      "cell_type": "code",
      "metadata": {
        "id": "3iUFyc2VvzAQ"
      },
      "source": [
        "TRAIN_RATIO = 0.8\r\n",
        "X_train, X_test, y_train, y_test = train_test_split(\r\n",
        "    X_data, y_data, \r\n",
        "    train_size=TRAIN_RATIO, \r\n",
        "    random_state=RANDOM_STATE,\r\n",
        "    stratify=y_data\r\n",
        ")\r\n",
        "X_test7=X_test[:,top7]\r\n",
        "X_test5=X_test[:,top5]\r\n",
        "X_train7=X_train[:,top7]\r\n",
        "X_train5=X_train[:,top5]"
      ],
      "execution_count": 73,
      "outputs": []
    },
    {
      "cell_type": "code",
      "metadata": {
        "colab": {
          "base_uri": "https://localhost:8080/",
          "height": 614
        },
        "id": "AxaX5Ry5vytv",
        "outputId": "189253a4-1e46-4428-edeb-4a76503d2180"
      },
      "source": [
        "from sklearn.metrics import roc_curve\r\n",
        "from sklearn.metrics import roc_auc_score\r\n",
        "diag_values = np.array([\r\n",
        "        [0, 0],\r\n",
        "        [1, 1],\r\n",
        "    ])\r\n",
        "\r\n",
        "rf_clf=RandomForestClassifier()\r\n",
        "rf_clf.fit(X_train,y_train)\r\n",
        "y_pred_proba = rf_clf.predict_proba(X_test)\r\n",
        "plt.subplot(131)\r\n",
        "for i in range (2):\r\n",
        "    fpr, tpr, thresholds = roc_curve(y_test, y_pred_proba[:,i],pos_label=i)\r\n",
        "    plt.plot(fpr, tpr)\r\n",
        "    plt.plot(diag_values[:,0], diag_values[:,1], 'b--')\r\n",
        "    plt.xlabel('FPR')\r\n",
        "    plt.ylabel('TPR')\r\n",
        "    plt.grid(True)\r\n",
        "rf_clf=RandomForestClassifier()\r\n",
        "rf_clf.fit(X_train7,y_train)\r\n",
        "y_pred_proba = rf_clf.predict_proba(X_test7)\r\n",
        "plt.subplot(132)\r\n",
        "for i in range (2):\r\n",
        "    fpr, tpr, thresholds = roc_curve(y_test, y_pred_proba[:,i],pos_label=i)\r\n",
        "    plt.plot(fpr, tpr)\r\n",
        "    plt.plot(diag_values[:,0], diag_values[:,1], 'b--')\r\n",
        "    plt.xlabel('FPR')\r\n",
        "    plt.ylabel('TPR')\r\n",
        "    plt.grid(True)\r\n",
        "rf_clf=RandomForestClassifier()\r\n",
        "rf_clf.fit(X_train5,y_train)\r\n",
        "y_pred_proba = rf_clf.predict_proba(X_test5)\r\n",
        "plt.subplot(133)\r\n",
        "for i in range (2):\r\n",
        "    fpr, tpr, thresholds = roc_curve(y_test, y_pred_proba[:,i],pos_label=i)\r\n",
        "    plt.plot(fpr, tpr)\r\n",
        "    plt.plot(diag_values[:,0], diag_values[:,1], 'b--')\r\n",
        "    plt.xlabel('FPR')\r\n",
        "    plt.ylabel('TPR')\r\n",
        "    plt.grid(True)"
      ],
      "execution_count": 74,
      "outputs": [
        {
          "output_type": "display_data",
          "data": {
            "image/png": "[encoded data removed]",
            "text/plain": [
              "<Figure size 1080x720 with 3 Axes>"
            ]
          },
          "metadata": {
            "tags": [],
            "needs_background": "light"
          }
        }
      ]
    },
    {
      "cell_type": "markdown",
      "metadata": {
        "id": "APk6mh5eMbBe"
      },
      "source": [
        "# Вопросы"
      ]
    },
    {
      "cell_type": "markdown",
      "metadata": {
        "id": "vv8T3Z8QMcFb"
      },
      "source": [
        "- Какой метод оценки модели лучше использовать в данной работе? Разделение на обучение/тест или кросс-валидация? Можно/нужно ли применять их вместе?\n",
        "кросс-валидация, можно\n",
        "- За что отвечают параметры `max_depth` и `n_estimators` в модели случайных лесов? Как они влияют на работу модели?\n",
        "max_depth - максимальная глубина каждого дерева леса. n_estimators - число таких деревьев в лесу.\n",
        "- В чем отличие GridSearch от RandomSearch?\n",
        "Не все значения предложенных параметров опробуются, фиксированное количество выбирается из заданных распределений. \n",
        "- Как влияет стандартизация признаков на работу модели леса?\n",
        "Слабо\n",
        "- Что такое \"важность признака\"? Есть ли аналоги показателя в моделях линейной и логистической регрессии?\n",
        "Важность признака оценивается путем усреднения по всем деревьям разности показателей out-of-bag-ошибок до и после перемешивания значений."
      ]
    }
  ]
}